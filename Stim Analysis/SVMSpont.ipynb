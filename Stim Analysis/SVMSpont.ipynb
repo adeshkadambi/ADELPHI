{
 "cells": [
  {
   "cell_type": "code",
   "execution_count": 171,
   "metadata": {},
   "outputs": [],
   "source": [
    "import sys\n",
    "import os\n",
    "import numpy as np\n",
    "%matplotlib inline\n",
    "import matplotlib.pyplot as plt\n",
    "import pandas as pd\n",
    "import scipy.signal as sig\n",
    "import datetime as dt\n",
    "import random as rand\n",
    "import scipy \n",
    "from scipy import stats, interp\n",
    "from IPython import embed\n",
    "from shutil import copyfile, copy2\n",
    "from load_intan_rhs_format import read_data\n",
    "\n",
    "from sklearn.model_selection import cross_val_score\n",
    "from sklearn.model_selection import KFold\n",
    "from sklearn.preprocessing import LabelEncoder\n",
    "from sklearn.pipeline import Pipeline\n",
    "from sklearn.model_selection import train_test_split\n",
    "from sklearn import metrics\n",
    "from sklearn.metrics import confusion_matrix \n",
    "from sklearn import svm\n",
    "from sklearn.pipeline import make_pipeline\n",
    "from sklearn.preprocessing import StandardScaler\n",
    "from sklearn.decomposition import PCA\n",
    "from sklearn.model_selection import StratifiedKFold"
   ]
  },
  {
   "cell_type": "code",
   "execution_count": 26,
   "metadata": {},
   "outputs": [],
   "source": [
    "def calcmeans(df):\n",
    "    means = pd.DataFrame()\n",
    "    for i in range(0,16):\n",
    "        singlech = df.iloc[:,np.add(i,np.multiply(16,range(0,int(df.shape[1]/16-1))))]\n",
    "        means = pd.concat([means,np.mean(singlech, axis=1)],axis=1)\n",
    "    means.columns = range(0,16)\n",
    "    return means"
   ]
  },
  {
   "cell_type": "code",
   "execution_count": 48,
   "metadata": {},
   "outputs": [],
   "source": [
    "def detrend(df,base):\n",
    "    means = calcmeans(base)\n",
    "    detrended = pd.DataFrame()\n",
    "    for i in range(0,df.shape[1]):\n",
    "        if i % 100 == 0:\n",
    "            print('detrending seg ' + str(i+1) + ' of ' + str(df.shape[1]))\n",
    "        ch = i % 16\n",
    "        orig = df.iloc[:,i]\n",
    "        mean = means[ch]\n",
    "        new = orig - mean\n",
    "        detrended = pd.concat([detrended,new],axis=1)\n",
    "    return detrended"
   ]
  },
  {
   "cell_type": "code",
   "execution_count": 172,
   "metadata": {},
   "outputs": [],
   "source": [
    "def bandpower(x, fs, fmin, fmax):\n",
    "    f, Pxx = scipy.signal.periodogram(x, fs=fs)\n",
    "    ind_min = scipy.argmax(f > fmin) - 1\n",
    "    ind_max = scipy.argmax(f > fmax) - 1\n",
    "    return scipy.trapz(Pxx[ind_min: ind_max], f[ind_min: ind_max])"
   ]
  },
  {
   "cell_type": "code",
   "execution_count": 220,
   "metadata": {},
   "outputs": [],
   "source": [
    "def calcfeats(df):\n",
    "    \n",
    "    h1 = np.zeros(df.shape[1])\n",
    "    h4 = np.zeros(df.shape[1])\n",
    "    h8 = np.zeros(df.shape[1])\n",
    "    h13 = np.zeros(df.shape[1])\n",
    "    h25 = np.zeros(df.shape[1])\n",
    "    h50 = np.zeros(df.shape[1])\n",
    "    h70 = np.zeros(df.shape[1])\n",
    "    h130 = np.zeros(df.shape[1])\n",
    "    for i in range(0,df.shape[1]):\n",
    "        h1[i] = bandpower(df.iloc[:,i],df.shape[0],1,4)\n",
    "        h4[i] = bandpower(df.iloc[:,i],df.shape[0],4,8)\n",
    "        h8[i] = bandpower(df.iloc[:,i],df.shape[0],8,13)\n",
    "        h13[i] = bandpower(df.iloc[:,i],df.shape[0],13,25)\n",
    "        h25[i] = bandpower(df.iloc[:,i],df.shape[0],25,50)\n",
    "        h70[i] = bandpower(df.iloc[:,i],df.shape[0],70,110)\n",
    "        h130[i] = bandpower(df.iloc[:,i],df.shape[0],130,170)\n",
    "    \n",
    "    d = {'max': np.max(df),\n",
    "         'argmax': df.idxmax(),\n",
    "         'min': np.min(df),\n",
    "         'argmin': df.idxmin(),\n",
    "         '1-4hz': h1,\n",
    "         '4-8hz': h4,\n",
    "         '8-13hz': h8,\n",
    "         '13-25hz': h13,\n",
    "         '25-50hz': h25,\n",
    "         '70-110hz': h70,\n",
    "         '130-170hz': h130\n",
    "        }\n",
    "    return pd.DataFrame(d)"
   ]
  },
  {
   "cell_type": "code",
   "execution_count": 266,
   "metadata": {},
   "outputs": [],
   "source": [
    "def compmat(df1, df2):\n",
    "    # Welch t-test on every feature for every channel pairwise between df1 and df2\n",
    "    try:\n",
    "        df1.shape[1] == df2.shape[1]\n",
    "    except:\n",
    "        print(str(df1) + ' and ' + str(df2) + ' do not have the same number of features!')\n",
    "    comp = pd.DataFrame(1., index=np.arange(16), columns = df1.columns)\n",
    "    for j in range (0,16):\n",
    "        for i in df1.columns:\n",
    "            pval = stats.ttest_ind(df1[i][j],df2[i][j], equal_var=False)[1]\n",
    "            comp[i][j] = pval\n",
    "            \n",
    "    return comp"
   ]
  },
  {
   "cell_type": "code",
   "execution_count": 225,
   "metadata": {},
   "outputs": [
    {
     "data": {
      "text/plain": [
       "<matplotlib.legend.Legend at 0x2cb8f978>"
      ]
     },
     "execution_count": 225,
     "metadata": {},
     "output_type": "execute_result"
    },
    {
     "data": {
      "image/png": "[encoded data removed]",
      "text/plain": [
       "<Figure size 432x288 with 1 Axes>"
      ]
     },
     "metadata": {
      "needs_background": "light"
     },
     "output_type": "display_data"
    }
   ],
   "source": [
    "bins = np.linspace(-200, 5000, 100)\n",
    "plt.hist(prefeat03['1-4hz'][1],bins,color='red',alpha=0.5,density=True, label = 'Preictal')\n",
    "plt.hist(interfeat03['1-4hz'][1],bins,color='green',alpha=0.5,density=True, label = 'Interictal')\n",
    "plt.legend(loc = 'upper right')\n",
    "#plt.xlim(-10000,10000)"
   ]
  },
  {
   "cell_type": "code",
   "execution_count": 29,
   "metadata": {},
   "outputs": [],
   "source": [
    "# loading in previously computed 1second response traces to each stim for interictal\n",
    "os.chdir('C:\\\\Users\\\\Senan\\\\SpontStimAnalysis\\\\Interictal\\\\RespData')\n",
    "interictal01 = pd.read_pickle('sKH01interictal1s.pkl')\n",
    "interictal03 = pd.read_pickle('sKH03interictal1s.pkl')\n",
    "\n",
    "# loading preictal same\n",
    "os.chdir('C:\\\\Users\\\\Senan\\\\SpontStimAnalysis\\\\Preictal\\\\RespData')\n",
    "preictal01 = pd.read_pickle('sKH01preictal1s.pkl')\n",
    "preictal03 = pd.read_pickle('sKH03preictal1s.pkl')\n",
    "\n",
    "# loading sz times\n",
    "sztimes01 = pd.read_pickle('sKH01sztimes.pkl')\n",
    "sztimes03 = pd.read_pickle('sKH03sztimes.pkl')"
   ]
  },
  {
   "cell_type": "code",
   "execution_count": 49,
   "metadata": {},
   "outputs": [
    {
     "name": "stdout",
     "output_type": "stream",
     "text": [
      "detrending seg 1 of 16880\n",
      "detrending seg 101 of 16880\n",
      "detrending seg 201 of 16880\n",
      "detrending seg 301 of 16880\n",
      "detrending seg 401 of 16880\n",
      "detrending seg 501 of 16880\n",
      "detrending seg 601 of 16880\n",
      "detrending seg 701 of 16880\n",
      "detrending seg 801 of 16880\n",
      "detrending seg 901 of 16880\n",
      "detrending seg 1001 of 16880\n",
      "detrending seg 1101 of 16880\n",
      "detrending seg 1201 of 16880\n",
      "detrending seg 1301 of 16880\n",
      "detrending seg 1401 of 16880\n",
      "detrending seg 1501 of 16880\n",
      "detrending seg 1601 of 16880\n",
      "detrending seg 1701 of 16880\n",
      "detrending seg 1801 of 16880\n",
      "detrending seg 1901 of 16880\n",
      "detrending seg 2001 of 16880\n",
      "detrending seg 2101 of 16880\n",
      "detrending seg 2201 of 16880\n",
      "detrending seg 2301 of 16880\n",
      "detrending seg 2401 of 16880\n",
      "detrending seg 2501 of 16880\n",
      "detrending seg 2601 of 16880\n",
      "detrending seg 2701 of 16880\n",
      "detrending seg 2801 of 16880\n",
      "detrending seg 2901 of 16880\n",
      "detrending seg 3001 of 16880\n",
      "detrending seg 3101 of 16880\n",
      "detrending seg 3201 of 16880\n",
      "detrending seg 3301 of 16880\n",
      "detrending seg 3401 of 16880\n",
      "detrending seg 3501 of 16880\n",
      "detrending seg 3601 of 16880\n",
      "detrending seg 3701 of 16880\n",
      "detrending seg 3801 of 16880\n",
      "detrending seg 3901 of 16880\n",
      "detrending seg 4001 of 16880\n",
      "detrending seg 4101 of 16880\n",
      "detrending seg 4201 of 16880\n",
      "detrending seg 4301 of 16880\n",
      "detrending seg 4401 of 16880\n",
      "detrending seg 4501 of 16880\n",
      "detrending seg 4601 of 16880\n",
      "detrending seg 4701 of 16880\n",
      "detrending seg 4801 of 16880\n",
      "detrending seg 4901 of 16880\n",
      "detrending seg 5001 of 16880\n",
      "detrending seg 5101 of 16880\n",
      "detrending seg 5201 of 16880\n",
      "detrending seg 5301 of 16880\n",
      "detrending seg 5401 of 16880\n",
      "detrending seg 5501 of 16880\n",
      "detrending seg 5601 of 16880\n",
      "detrending seg 5701 of 16880\n",
      "detrending seg 5801 of 16880\n",
      "detrending seg 5901 of 16880\n",
      "detrending seg 6001 of 16880\n",
      "detrending seg 6101 of 16880\n",
      "detrending seg 6201 of 16880\n",
      "detrending seg 6301 of 16880\n",
      "detrending seg 6401 of 16880\n",
      "detrending seg 6501 of 16880\n",
      "detrending seg 6601 of 16880\n",
      "detrending seg 6701 of 16880\n",
      "detrending seg 6801 of 16880\n",
      "detrending seg 6901 of 16880\n",
      "detrending seg 7001 of 16880\n",
      "detrending seg 7101 of 16880\n",
      "detrending seg 7201 of 16880\n",
      "detrending seg 7301 of 16880\n",
      "detrending seg 7401 of 16880\n",
      "detrending seg 7501 of 16880\n",
      "detrending seg 7601 of 16880\n",
      "detrending seg 7701 of 16880\n",
      "detrending seg 7801 of 16880\n",
      "detrending seg 7901 of 16880\n",
      "detrending seg 8001 of 16880\n",
      "detrending seg 8101 of 16880\n",
      "detrending seg 8201 of 16880\n",
      "detrending seg 8301 of 16880\n",
      "detrending seg 8401 of 16880\n",
      "detrending seg 8501 of 16880\n",
      "detrending seg 8601 of 16880\n",
      "detrending seg 8701 of 16880\n",
      "detrending seg 8801 of 16880\n",
      "detrending seg 8901 of 16880\n",
      "detrending seg 9001 of 16880\n",
      "detrending seg 9101 of 16880\n",
      "detrending seg 9201 of 16880\n",
      "detrending seg 9301 of 16880\n",
      "detrending seg 9401 of 16880\n",
      "detrending seg 9501 of 16880\n",
      "detrending seg 9601 of 16880\n",
      "detrending seg 9701 of 16880\n",
      "detrending seg 9801 of 16880\n",
      "detrending seg 9901 of 16880\n",
      "detrending seg 10001 of 16880\n",
      "detrending seg 10101 of 16880\n",
      "detrending seg 10201 of 16880\n",
      "detrending seg 10301 of 16880\n",
      "detrending seg 10401 of 16880\n",
      "detrending seg 10501 of 16880\n",
      "detrending seg 10601 of 16880\n",
      "detrending seg 10701 of 16880\n",
      "detrending seg 10801 of 16880\n",
      "detrending seg 10901 of 16880\n",
      "detrending seg 11001 of 16880\n",
      "detrending seg 11101 of 16880\n",
      "detrending seg 11201 of 16880\n",
      "detrending seg 11301 of 16880\n",
      "detrending seg 11401 of 16880\n",
      "detrending seg 11501 of 16880\n",
      "detrending seg 11601 of 16880\n",
      "detrending seg 11701 of 16880\n",
      "detrending seg 11801 of 16880\n",
      "detrending seg 11901 of 16880\n",
      "detrending seg 12001 of 16880\n",
      "detrending seg 12101 of 16880\n",
      "detrending seg 12201 of 16880\n",
      "detrending seg 12301 of 16880\n",
      "detrending seg 12401 of 16880\n",
      "detrending seg 12501 of 16880\n",
      "detrending seg 12601 of 16880\n",
      "detrending seg 12701 of 16880\n",
      "detrending seg 12801 of 16880\n",
      "detrending seg 12901 of 16880\n",
      "detrending seg 13001 of 16880\n",
      "detrending seg 13101 of 16880\n",
      "detrending seg 13201 of 16880\n",
      "detrending seg 13301 of 16880\n",
      "detrending seg 13401 of 16880\n",
      "detrending seg 13501 of 16880\n",
      "detrending seg 13601 of 16880\n",
      "detrending seg 13701 of 16880\n",
      "detrending seg 13801 of 16880\n",
      "detrending seg 13901 of 16880\n",
      "detrending seg 14001 of 16880\n",
      "detrending seg 14101 of 16880\n",
      "detrending seg 14201 of 16880\n",
      "detrending seg 14301 of 16880\n",
      "detrending seg 14401 of 16880\n",
      "detrending seg 14501 of 16880\n",
      "detrending seg 14601 of 16880\n",
      "detrending seg 14701 of 16880\n",
      "detrending seg 14801 of 16880\n",
      "detrending seg 14901 of 16880\n",
      "detrending seg 15001 of 16880\n",
      "detrending seg 15101 of 16880\n",
      "detrending seg 15201 of 16880\n",
      "detrending seg 15301 of 16880\n",
      "detrending seg 15401 of 16880\n",
      "detrending seg 15501 of 16880\n",
      "detrending seg 15601 of 16880\n",
      "detrending seg 15701 of 16880\n",
      "detrending seg 15801 of 16880\n",
      "detrending seg 15901 of 16880\n",
      "detrending seg 16001 of 16880\n",
      "detrending seg 16101 of 16880\n",
      "detrending seg 16201 of 16880\n",
      "detrending seg 16301 of 16880\n",
      "detrending seg 16401 of 16880\n",
      "detrending seg 16501 of 16880\n",
      "detrending seg 16601 of 16880\n",
      "detrending seg 16701 of 16880\n",
      "detrending seg 16801 of 16880\n"
     ]
    }
   ],
   "source": [
    "# detrend compute feats on sKH03 \n",
    "# using the first 100 interictal responses to detrend all\n",
    "\n",
    "# interdat03 = detrend(interictal03,interictal03.iloc[:,0:1600])\n",
    "\n",
    "preicdat03 = detrend(preictal03, interictal03.iloc[:,0:1600])\n"
   ]
  },
  {
   "cell_type": "code",
   "execution_count": 226,
   "metadata": {},
   "outputs": [
    {
     "name": "stdout",
     "output_type": "stream",
     "text": [
      "next\n",
      "done\n"
     ]
    }
   ],
   "source": [
    "# preicdat03.head()\n",
    "\n",
    "prefeat03 = calcfeats(preicdat03)\n",
    "\n",
    "print('next')\n",
    "\n",
    "interfeat03 = calcfeats(interdat03)\n",
    "\n",
    "print('done')\n",
    "\n",
    "\n",
    "# interfeat03.head()"
   ]
  },
  {
   "cell_type": "code",
   "execution_count": 227,
   "metadata": {},
   "outputs": [
    {
     "data": {
      "text/html": [
       "<div>\n",
       "<style scoped>\n",
       "    .dataframe tbody tr th:only-of-type {\n",
       "        vertical-align: middle;\n",
       "    }\n",
       "\n",
       "    .dataframe tbody tr th {\n",
       "        vertical-align: top;\n",
       "    }\n",
       "\n",
       "    .dataframe thead th {\n",
       "        text-align: right;\n",
       "    }\n",
       "</style>\n",
       "<table border=\"1\" class=\"dataframe\">\n",
       "  <thead>\n",
       "    <tr style=\"text-align: right;\">\n",
       "      <th></th>\n",
       "      <th>max</th>\n",
       "      <th>argmax</th>\n",
       "      <th>min</th>\n",
       "      <th>argmin</th>\n",
       "      <th>1-4hz</th>\n",
       "      <th>4-8hz</th>\n",
       "      <th>8-13hz</th>\n",
       "      <th>13-25hz</th>\n",
       "      <th>25-50hz</th>\n",
       "      <th>70-110hz</th>\n",
       "      <th>130-170hz</th>\n",
       "    </tr>\n",
       "  </thead>\n",
       "  <tbody>\n",
       "    <tr>\n",
       "      <th>0</th>\n",
       "      <td>231.409475</td>\n",
       "      <td>156</td>\n",
       "      <td>-495.858702</td>\n",
       "      <td>1</td>\n",
       "      <td>1009.478001</td>\n",
       "      <td>167.578523</td>\n",
       "      <td>287.921505</td>\n",
       "      <td>247.738156</td>\n",
       "      <td>278.332396</td>\n",
       "      <td>114.804339</td>\n",
       "      <td>66.472039</td>\n",
       "    </tr>\n",
       "    <tr>\n",
       "      <th>1</th>\n",
       "      <td>115.792344</td>\n",
       "      <td>1881</td>\n",
       "      <td>-141.538087</td>\n",
       "      <td>1021</td>\n",
       "      <td>11.546824</td>\n",
       "      <td>10.982297</td>\n",
       "      <td>28.161660</td>\n",
       "      <td>53.294675</td>\n",
       "      <td>119.861850</td>\n",
       "      <td>61.843326</td>\n",
       "      <td>27.275763</td>\n",
       "    </tr>\n",
       "    <tr>\n",
       "      <th>2</th>\n",
       "      <td>234.162486</td>\n",
       "      <td>1881</td>\n",
       "      <td>-493.549960</td>\n",
       "      <td>3</td>\n",
       "      <td>9868.753818</td>\n",
       "      <td>2031.086439</td>\n",
       "      <td>658.663863</td>\n",
       "      <td>600.351954</td>\n",
       "      <td>414.654181</td>\n",
       "      <td>131.499244</td>\n",
       "      <td>60.218255</td>\n",
       "    </tr>\n",
       "    <tr>\n",
       "      <th>3</th>\n",
       "      <td>866.964509</td>\n",
       "      <td>1</td>\n",
       "      <td>-169.532957</td>\n",
       "      <td>1021</td>\n",
       "      <td>405.493572</td>\n",
       "      <td>399.896292</td>\n",
       "      <td>349.788650</td>\n",
       "      <td>685.617655</td>\n",
       "      <td>704.437522</td>\n",
       "      <td>260.685780</td>\n",
       "      <td>103.591172</td>\n",
       "    </tr>\n",
       "    <tr>\n",
       "      <th>4</th>\n",
       "      <td>469.676004</td>\n",
       "      <td>158</td>\n",
       "      <td>-1601.562295</td>\n",
       "      <td>0</td>\n",
       "      <td>8080.747095</td>\n",
       "      <td>1131.079329</td>\n",
       "      <td>686.871791</td>\n",
       "      <td>770.420201</td>\n",
       "      <td>756.082305</td>\n",
       "      <td>469.558128</td>\n",
       "      <td>317.993327</td>\n",
       "    </tr>\n",
       "  </tbody>\n",
       "</table>\n",
       "</div>"
      ],
      "text/plain": [
       "          max  argmax          min  argmin        1-4hz        4-8hz  \\\n",
       "0  231.409475     156  -495.858702       1  1009.478001   167.578523   \n",
       "1  115.792344    1881  -141.538087    1021    11.546824    10.982297   \n",
       "2  234.162486    1881  -493.549960       3  9868.753818  2031.086439   \n",
       "3  866.964509       1  -169.532957    1021   405.493572   399.896292   \n",
       "4  469.676004     158 -1601.562295       0  8080.747095  1131.079329   \n",
       "\n",
       "       8-13hz     13-25hz     25-50hz    70-110hz   130-170hz  \n",
       "0  287.921505  247.738156  278.332396  114.804339   66.472039  \n",
       "1   28.161660   53.294675  119.861850   61.843326   27.275763  \n",
       "2  658.663863  600.351954  414.654181  131.499244   60.218255  \n",
       "3  349.788650  685.617655  704.437522  260.685780  103.591172  \n",
       "4  686.871791  770.420201  756.082305  469.558128  317.993327  "
      ]
     },
     "execution_count": 227,
     "metadata": {},
     "output_type": "execute_result"
    }
   ],
   "source": [
    "interfeat03.head()"
   ]
  },
  {
   "cell_type": "code",
   "execution_count": 228,
   "metadata": {},
   "outputs": [
    {
     "data": {
      "text/html": [
       "<div>\n",
       "<style scoped>\n",
       "    .dataframe tbody tr th:only-of-type {\n",
       "        vertical-align: middle;\n",
       "    }\n",
       "\n",
       "    .dataframe tbody tr th {\n",
       "        vertical-align: top;\n",
       "    }\n",
       "\n",
       "    .dataframe thead th {\n",
       "        text-align: right;\n",
       "    }\n",
       "</style>\n",
       "<table border=\"1\" class=\"dataframe\">\n",
       "  <thead>\n",
       "    <tr style=\"text-align: right;\">\n",
       "      <th></th>\n",
       "      <th>max</th>\n",
       "      <th>argmax</th>\n",
       "      <th>min</th>\n",
       "      <th>argmin</th>\n",
       "      <th>1-4hz</th>\n",
       "      <th>4-8hz</th>\n",
       "      <th>8-13hz</th>\n",
       "      <th>13-25hz</th>\n",
       "      <th>25-50hz</th>\n",
       "      <th>70-110hz</th>\n",
       "      <th>130-170hz</th>\n",
       "    </tr>\n",
       "  </thead>\n",
       "  <tbody>\n",
       "    <tr>\n",
       "      <th>0</th>\n",
       "      <td>197.457165</td>\n",
       "      <td>70</td>\n",
       "      <td>-522.319888</td>\n",
       "      <td>0</td>\n",
       "      <td>1019.884156</td>\n",
       "      <td>247.081084</td>\n",
       "      <td>272.612903</td>\n",
       "      <td>290.785243</td>\n",
       "      <td>239.317485</td>\n",
       "      <td>167.413387</td>\n",
       "      <td>62.808930</td>\n",
       "    </tr>\n",
       "    <tr>\n",
       "      <th>1</th>\n",
       "      <td>171.910773</td>\n",
       "      <td>0</td>\n",
       "      <td>-99.280150</td>\n",
       "      <td>612</td>\n",
       "      <td>298.680438</td>\n",
       "      <td>58.704380</td>\n",
       "      <td>31.216621</td>\n",
       "      <td>51.381048</td>\n",
       "      <td>117.951427</td>\n",
       "      <td>106.877740</td>\n",
       "      <td>28.757043</td>\n",
       "    </tr>\n",
       "    <tr>\n",
       "      <th>2</th>\n",
       "      <td>361.273770</td>\n",
       "      <td>1539</td>\n",
       "      <td>-1259.159260</td>\n",
       "      <td>3</td>\n",
       "      <td>82625.164637</td>\n",
       "      <td>12475.790976</td>\n",
       "      <td>4587.875384</td>\n",
       "      <td>4193.011094</td>\n",
       "      <td>2197.083425</td>\n",
       "      <td>629.272907</td>\n",
       "      <td>233.540949</td>\n",
       "    </tr>\n",
       "    <tr>\n",
       "      <th>3</th>\n",
       "      <td>722.946491</td>\n",
       "      <td>70</td>\n",
       "      <td>-2007.527260</td>\n",
       "      <td>0</td>\n",
       "      <td>23988.095946</td>\n",
       "      <td>4019.282922</td>\n",
       "      <td>2450.541128</td>\n",
       "      <td>2806.410362</td>\n",
       "      <td>2302.961842</td>\n",
       "      <td>924.614178</td>\n",
       "      <td>402.444193</td>\n",
       "    </tr>\n",
       "    <tr>\n",
       "      <th>4</th>\n",
       "      <td>504.794021</td>\n",
       "      <td>149</td>\n",
       "      <td>-1235.123478</td>\n",
       "      <td>0</td>\n",
       "      <td>8639.566061</td>\n",
       "      <td>1020.091875</td>\n",
       "      <td>650.944802</td>\n",
       "      <td>528.976662</td>\n",
       "      <td>533.931952</td>\n",
       "      <td>598.872084</td>\n",
       "      <td>413.480872</td>\n",
       "    </tr>\n",
       "  </tbody>\n",
       "</table>\n",
       "</div>"
      ],
      "text/plain": [
       "          max  argmax          min  argmin         1-4hz         4-8hz  \\\n",
       "0  197.457165      70  -522.319888       0   1019.884156    247.081084   \n",
       "1  171.910773       0   -99.280150     612    298.680438     58.704380   \n",
       "2  361.273770    1539 -1259.159260       3  82625.164637  12475.790976   \n",
       "3  722.946491      70 -2007.527260       0  23988.095946   4019.282922   \n",
       "4  504.794021     149 -1235.123478       0   8639.566061   1020.091875   \n",
       "\n",
       "        8-13hz      13-25hz      25-50hz    70-110hz   130-170hz  \n",
       "0   272.612903   290.785243   239.317485  167.413387   62.808930  \n",
       "1    31.216621    51.381048   117.951427  106.877740   28.757043  \n",
       "2  4587.875384  4193.011094  2197.083425  629.272907  233.540949  \n",
       "3  2450.541128  2806.410362  2302.961842  924.614178  402.444193  \n",
       "4   650.944802   528.976662   533.931952  598.872084  413.480872  "
      ]
     },
     "execution_count": 228,
     "metadata": {},
     "output_type": "execute_result"
    }
   ],
   "source": [
    "prefeat03.head()"
   ]
  },
  {
   "cell_type": "code",
   "execution_count": 38,
   "metadata": {},
   "outputs": [
    {
     "data": {
      "text/html": [
       "<div>\n",
       "<style scoped>\n",
       "    .dataframe tbody tr th:only-of-type {\n",
       "        vertical-align: middle;\n",
       "    }\n",
       "\n",
       "    .dataframe tbody tr th {\n",
       "        vertical-align: top;\n",
       "    }\n",
       "\n",
       "    .dataframe thead th {\n",
       "        text-align: right;\n",
       "    }\n",
       "</style>\n",
       "<table border=\"1\" class=\"dataframe\">\n",
       "  <thead>\n",
       "    <tr style=\"text-align: right;\">\n",
       "      <th></th>\n",
       "      <th>0</th>\n",
       "      <th>1</th>\n",
       "      <th>2</th>\n",
       "      <th>3</th>\n",
       "      <th>4</th>\n",
       "      <th>5</th>\n",
       "      <th>6</th>\n",
       "      <th>7</th>\n",
       "      <th>8</th>\n",
       "      <th>9</th>\n",
       "      <th>...</th>\n",
       "      <th>6</th>\n",
       "      <th>7</th>\n",
       "      <th>8</th>\n",
       "      <th>9</th>\n",
       "      <th>10</th>\n",
       "      <th>11</th>\n",
       "      <th>12</th>\n",
       "      <th>13</th>\n",
       "      <th>14</th>\n",
       "      <th>15</th>\n",
       "    </tr>\n",
       "  </thead>\n",
       "  <tbody>\n",
       "    <tr>\n",
       "      <th>0</th>\n",
       "      <td>-1643.398301</td>\n",
       "      <td>-16.575546</td>\n",
       "      <td>1308.425064</td>\n",
       "      <td>1812.858175</td>\n",
       "      <td>-3568.588953</td>\n",
       "      <td>69.447808</td>\n",
       "      <td>-4541.488582</td>\n",
       "      <td>52.518931</td>\n",
       "      <td>-89.944118</td>\n",
       "      <td>-545.725727</td>\n",
       "      <td>...</td>\n",
       "      <td>4182.521509</td>\n",
       "      <td>98.212773</td>\n",
       "      <td>4930.754903</td>\n",
       "      <td>144.927110</td>\n",
       "      <td>4756.466494</td>\n",
       "      <td>-31.986172</td>\n",
       "      <td>-161.762296</td>\n",
       "      <td>-165.556150</td>\n",
       "      <td>-1539.882160</td>\n",
       "      <td>5661.377133</td>\n",
       "    </tr>\n",
       "    <tr>\n",
       "      <th>1</th>\n",
       "      <td>-1468.719347</td>\n",
       "      <td>61.403868</td>\n",
       "      <td>1396.674486</td>\n",
       "      <td>1825.386424</td>\n",
       "      <td>-2967.618806</td>\n",
       "      <td>76.865719</td>\n",
       "      <td>-4214.864706</td>\n",
       "      <td>54.375842</td>\n",
       "      <td>76.536539</td>\n",
       "      <td>-432.018099</td>\n",
       "      <td>...</td>\n",
       "      <td>3937.622633</td>\n",
       "      <td>64.094993</td>\n",
       "      <td>4711.407375</td>\n",
       "      <td>127.186664</td>\n",
       "      <td>4546.590867</td>\n",
       "      <td>-58.588637</td>\n",
       "      <td>-191.587859</td>\n",
       "      <td>-78.625545</td>\n",
       "      <td>-1368.707615</td>\n",
       "      <td>5422.868413</td>\n",
       "    </tr>\n",
       "    <tr>\n",
       "      <th>2</th>\n",
       "      <td>-1030.017614</td>\n",
       "      <td>112.422310</td>\n",
       "      <td>1367.493737</td>\n",
       "      <td>1615.549653</td>\n",
       "      <td>-2233.391422</td>\n",
       "      <td>90.325600</td>\n",
       "      <td>-3528.300886</td>\n",
       "      <td>80.774413</td>\n",
       "      <td>30.842877</td>\n",
       "      <td>-305.963019</td>\n",
       "      <td>...</td>\n",
       "      <td>3700.276560</td>\n",
       "      <td>76.709021</td>\n",
       "      <td>4673.880782</td>\n",
       "      <td>57.533561</td>\n",
       "      <td>4331.605826</td>\n",
       "      <td>-38.649800</td>\n",
       "      <td>-139.536184</td>\n",
       "      <td>-111.834666</td>\n",
       "      <td>-1336.782346</td>\n",
       "      <td>5232.464268</td>\n",
       "    </tr>\n",
       "    <tr>\n",
       "      <th>3</th>\n",
       "      <td>-873.584548</td>\n",
       "      <td>117.953181</td>\n",
       "      <td>1332.623153</td>\n",
       "      <td>1590.366700</td>\n",
       "      <td>-1905.425673</td>\n",
       "      <td>83.537480</td>\n",
       "      <td>-3095.135633</td>\n",
       "      <td>78.912874</td>\n",
       "      <td>73.127253</td>\n",
       "      <td>-262.774226</td>\n",
       "      <td>...</td>\n",
       "      <td>3609.806113</td>\n",
       "      <td>72.153009</td>\n",
       "      <td>4612.091953</td>\n",
       "      <td>128.239260</td>\n",
       "      <td>4285.470192</td>\n",
       "      <td>-51.992324</td>\n",
       "      <td>-206.902621</td>\n",
       "      <td>-149.746578</td>\n",
       "      <td>-1259.267087</td>\n",
       "      <td>5127.745862</td>\n",
       "    </tr>\n",
       "    <tr>\n",
       "      <th>4</th>\n",
       "      <td>-739.055003</td>\n",
       "      <td>139.326738</td>\n",
       "      <td>1357.967782</td>\n",
       "      <td>1423.064531</td>\n",
       "      <td>-1626.478908</td>\n",
       "      <td>48.878602</td>\n",
       "      <td>-2777.277891</td>\n",
       "      <td>45.236889</td>\n",
       "      <td>54.928362</td>\n",
       "      <td>-171.684560</td>\n",
       "      <td>...</td>\n",
       "      <td>3307.552066</td>\n",
       "      <td>58.649734</td>\n",
       "      <td>4505.850723</td>\n",
       "      <td>51.026751</td>\n",
       "      <td>4032.259843</td>\n",
       "      <td>-49.381990</td>\n",
       "      <td>-149.449217</td>\n",
       "      <td>-98.587419</td>\n",
       "      <td>-1194.055052</td>\n",
       "      <td>4914.462200</td>\n",
       "    </tr>\n",
       "  </tbody>\n",
       "</table>\n",
       "<p>5 rows × 53792 columns</p>\n",
       "</div>"
      ],
      "text/plain": [
       "            0           1            2            3            4          5   \\\n",
       "0 -1643.398301  -16.575546  1308.425064  1812.858175 -3568.588953  69.447808   \n",
       "1 -1468.719347   61.403868  1396.674486  1825.386424 -2967.618806  76.865719   \n",
       "2 -1030.017614  112.422310  1367.493737  1615.549653 -2233.391422  90.325600   \n",
       "3  -873.584548  117.953181  1332.623153  1590.366700 -1905.425673  83.537480   \n",
       "4  -739.055003  139.326738  1357.967782  1423.064531 -1626.478908  48.878602   \n",
       "\n",
       "            6          7          8           9      ...                6   \\\n",
       "0 -4541.488582  52.518931 -89.944118 -545.725727     ...       4182.521509   \n",
       "1 -4214.864706  54.375842  76.536539 -432.018099     ...       3937.622633   \n",
       "2 -3528.300886  80.774413  30.842877 -305.963019     ...       3700.276560   \n",
       "3 -3095.135633  78.912874  73.127253 -262.774226     ...       3609.806113   \n",
       "4 -2777.277891  45.236889  54.928362 -171.684560     ...       3307.552066   \n",
       "\n",
       "          7            8           9            10         11          12  \\\n",
       "0  98.212773  4930.754903  144.927110  4756.466494 -31.986172 -161.762296   \n",
       "1  64.094993  4711.407375  127.186664  4546.590867 -58.588637 -191.587859   \n",
       "2  76.709021  4673.880782   57.533561  4331.605826 -38.649800 -139.536184   \n",
       "3  72.153009  4612.091953  128.239260  4285.470192 -51.992324 -206.902621   \n",
       "4  58.649734  4505.850723   51.026751  4032.259843 -49.381990 -149.449217   \n",
       "\n",
       "           13           14           15  \n",
       "0 -165.556150 -1539.882160  5661.377133  \n",
       "1  -78.625545 -1368.707615  5422.868413  \n",
       "2 -111.834666 -1336.782346  5232.464268  \n",
       "3 -149.746578 -1259.267087  5127.745862  \n",
       "4  -98.587419 -1194.055052  4914.462200  \n",
       "\n",
       "[5 rows x 53792 columns]"
      ]
     },
     "execution_count": 38,
     "metadata": {},
     "output_type": "execute_result"
    }
   ],
   "source": [
    "preicdat03.head()"
   ]
  },
  {
   "cell_type": "code",
   "execution_count": 58,
   "metadata": {},
   "outputs": [],
   "source": [
    "os.chdir('C:\\\\Users\\\\Senan\\\\SpontStimAnalysis\\\\Interictal\\\\RespData')\n",
    "interdat03.to_pickle('interictal03_detrended.pkl')\n",
    "interfeat03.to_pickle('interfeat03.pkl')\n",
    "\n",
    "preicdat03.to_pickle('preictal03_detrended.pkl')\n",
    "prefeat03.to_pickle('prefeat03.pkl')"
   ]
  },
  {
   "cell_type": "code",
   "execution_count": 59,
   "metadata": {},
   "outputs": [],
   "source": [
    "test = pd.read_pickle('interfeat03.pkl')"
   ]
  },
  {
   "cell_type": "code",
   "execution_count": 60,
   "metadata": {},
   "outputs": [
    {
     "data": {
      "text/html": [
       "<div>\n",
       "<style scoped>\n",
       "    .dataframe tbody tr th:only-of-type {\n",
       "        vertical-align: middle;\n",
       "    }\n",
       "\n",
       "    .dataframe tbody tr th {\n",
       "        vertical-align: top;\n",
       "    }\n",
       "\n",
       "    .dataframe thead th {\n",
       "        text-align: right;\n",
       "    }\n",
       "</style>\n",
       "<table border=\"1\" class=\"dataframe\">\n",
       "  <thead>\n",
       "    <tr style=\"text-align: right;\">\n",
       "      <th></th>\n",
       "      <th>max</th>\n",
       "      <th>argmax</th>\n",
       "      <th>min</th>\n",
       "      <th>argmin</th>\n",
       "    </tr>\n",
       "  </thead>\n",
       "  <tbody>\n",
       "    <tr>\n",
       "      <th>0</th>\n",
       "      <td>231.409475</td>\n",
       "      <td>156</td>\n",
       "      <td>-495.858702</td>\n",
       "      <td>1</td>\n",
       "    </tr>\n",
       "    <tr>\n",
       "      <th>1</th>\n",
       "      <td>115.792344</td>\n",
       "      <td>1881</td>\n",
       "      <td>-141.538087</td>\n",
       "      <td>1021</td>\n",
       "    </tr>\n",
       "    <tr>\n",
       "      <th>2</th>\n",
       "      <td>234.162486</td>\n",
       "      <td>1881</td>\n",
       "      <td>-493.549960</td>\n",
       "      <td>3</td>\n",
       "    </tr>\n",
       "    <tr>\n",
       "      <th>3</th>\n",
       "      <td>866.964509</td>\n",
       "      <td>1</td>\n",
       "      <td>-169.532957</td>\n",
       "      <td>1021</td>\n",
       "    </tr>\n",
       "    <tr>\n",
       "      <th>4</th>\n",
       "      <td>469.676004</td>\n",
       "      <td>158</td>\n",
       "      <td>-1601.562295</td>\n",
       "      <td>0</td>\n",
       "    </tr>\n",
       "  </tbody>\n",
       "</table>\n",
       "</div>"
      ],
      "text/plain": [
       "          max  argmax          min  argmin\n",
       "0  231.409475     156  -495.858702       1\n",
       "1  115.792344    1881  -141.538087    1021\n",
       "2  234.162486    1881  -493.549960       3\n",
       "3  866.964509       1  -169.532957    1021\n",
       "4  469.676004     158 -1601.562295       0"
      ]
     },
     "execution_count": 60,
     "metadata": {},
     "output_type": "execute_result"
    }
   ],
   "source": [
    "test.head()"
   ]
  },
  {
   "cell_type": "code",
   "execution_count": 133,
   "metadata": {},
   "outputs": [
    {
     "data": {
      "text/plain": [
       "<matplotlib.legend.Legend at 0x23311b70>"
      ]
     },
     "execution_count": 133,
     "metadata": {},
     "output_type": "execute_result"
    },
    {
     "data": {
      "image/png": "[encoded data removed]",
      "text/plain": [
       "<Figure size 432x288 with 1 Axes>"
      ]
     },
     "metadata": {
      "needs_background": "light"
     },
     "output_type": "display_data"
    }
   ],
   "source": [
    "\n",
    "bins = np.linspace(-2000, 0, 100)\n",
    "plt.hist(prefeat03['min'][2],bins,color='red',alpha=0.5,density=True, label = 'Preictal')\n",
    "plt.hist(interfeat03['min'][2],bins,color='green',alpha=0.5,density=True, label = 'Interictal')\n",
    "plt.legend(loc = 'upper right')\n",
    "#plt.xlim(-10000,10000)\n"
   ]
  },
  {
   "cell_type": "code",
   "execution_count": 118,
   "metadata": {},
   "outputs": [
    {
     "data": {
      "text/plain": [
       "(-2000, 0)"
      ]
     },
     "execution_count": 118,
     "metadata": {},
     "output_type": "execute_result"
    },
    {
     "data": {
      "image/png": "[encoded data removed]",
      "text/plain": [
       "<Figure size 432x288 with 1 Axes>"
      ]
     },
     "metadata": {
      "needs_background": "light"
     },
     "output_type": "display_data"
    }
   ],
   "source": [
    "\n",
    "bins = np.linspace(-2000, 0, 100)\n",
    "plt.hist(prefeat03['min'][15],bins,color='red',alpha=0.5,density=True, label = 'Preictal')\n",
    "plt.hist(interfeat03['min'][15],bins,color='green',alpha=0.5,density=True, label = 'Interictal')\n",
    "plt.legend(loc = 'upper right')\n",
    "plt.xlim(-2000,0)"
   ]
  },
  {
   "cell_type": "code",
   "execution_count": 169,
   "metadata": {},
   "outputs": [],
   "source": [
    "prefeatcut = prefeat03.iloc[16*0:16*800]"
   ]
  },
  {
   "cell_type": "code",
   "execution_count": 170,
   "metadata": {},
   "outputs": [
    {
     "data": {
      "text/plain": [
       "<matplotlib.legend.Legend at 0x24c464e0>"
      ]
     },
     "execution_count": 170,
     "metadata": {},
     "output_type": "execute_result"
    },
    {
     "data": {
      "image/png": "[encoded data removed]",
      "text/plain": [
       "<Figure size 432x288 with 1 Axes>"
      ]
     },
     "metadata": {
      "needs_background": "light"
     },
     "output_type": "display_data"
    }
   ],
   "source": [
    "bins = np.linspace(-2000, 0, 100)\n",
    "plt.hist(prefeatcut['min'][2],bins,color='red',alpha=0.5,density=True, label = 'Preictal')\n",
    "plt.hist(interfeat03['min'][2],bins,color='green',alpha=0.5,density=True, label = 'Interictal')\n",
    "plt.legend(loc = 'upper right')\n",
    "#plt.xlim(-10000,10000)"
   ]
  },
  {
   "cell_type": "code",
   "execution_count": 229,
   "metadata": {},
   "outputs": [
    {
     "data": {
      "text/plain": [
       "<matplotlib.legend.Legend at 0x2b935d30>"
      ]
     },
     "execution_count": 229,
     "metadata": {},
     "output_type": "execute_result"
    },
    {
     "data": {
      "image/png": "[encoded data removed]",
      "text/plain": [
       "<Figure size 432x288 with 1 Axes>"
      ]
     },
     "metadata": {
      "needs_background": "light"
     },
     "output_type": "display_data"
    }
   ],
   "source": [
    "bins = np.linspace(-200, 5000, 100)\n",
    "plt.hist(prefeat03['1-4hz'][1],bins,color='red',alpha=0.5,density=True, label = 'Preictal')\n",
    "plt.hist(interfeat03['1-4hz'][1],bins,color='green',alpha=0.5,density=True, label = 'Interictal')\n",
    "plt.legend(loc = 'upper right')"
   ]
  },
  {
   "cell_type": "code",
   "execution_count": 231,
   "metadata": {},
   "outputs": [
    {
     "data": {
      "text/plain": [
       "<matplotlib.legend.Legend at 0x3e8ac668>"
      ]
     },
     "execution_count": 231,
     "metadata": {},
     "output_type": "execute_result"
    },
    {
     "data": {
      "image/png": "[encoded data removed]",
      "text/plain": [
       "<Figure size 432x288 with 1 Axes>"
      ]
     },
     "metadata": {
      "needs_background": "light"
     },
     "output_type": "display_data"
    }
   ],
   "source": [
    "bins = np.linspace(-200, 5000, 100)\n",
    "ch = 0\n",
    "plt.hist(prefeat03['4-8hz'][ch],bins,color='red',alpha=0.5,density=True, label = 'Preictal')\n",
    "plt.hist(interfeat03['4-8hz'][ch],bins,color='green',alpha=0.5,density=True, label = 'Interictal')\n",
    "plt.legend(loc = 'upper right')"
   ]
  },
  {
   "cell_type": "code",
   "execution_count": 235,
   "metadata": {},
   "outputs": [
    {
     "data": {
      "text/plain": [
       "<matplotlib.legend.Legend at 0x3f0b4ef0>"
      ]
     },
     "execution_count": 235,
     "metadata": {},
     "output_type": "execute_result"
    },
    {
     "data": {
      "image/png": "[encoded data removed]",
      "text/plain": [
       "<Figure size 432x288 with 1 Axes>"
      ]
     },
     "metadata": {
      "needs_background": "light"
     },
     "output_type": "display_data"
    }
   ],
   "source": [
    "bins = np.linspace(-200, 5000, 100)\n",
    "ch = 4\n",
    "feat = '4-8hz'\n",
    "plt.hist(prefeat03['4-8hz'][ch],bins,color='red',alpha=0.5,density=True, label = 'Preictal')\n",
    "plt.hist(interfeat03['4-8hz'][ch],bins,color='green',alpha=0.5,density=True, label = 'Interictal')\n",
    "plt.legend(loc = 'upper right')\n",
    "plt.title()"
   ]
  },
  {
   "cell_type": "code",
   "execution_count": 265,
   "metadata": {},
   "outputs": [
    {
     "data": {
      "text/plain": [
       "Text(0, 0.5, 'PDF')"
      ]
     },
     "execution_count": 265,
     "metadata": {},
     "output_type": "execute_result"
    },
    {
     "data": {
      "image/png": "[encoded data removed]",
      "text/plain": [
       "<Figure size 432x288 with 1 Axes>"
      ]
     },
     "metadata": {
      "needs_background": "light"
     },
     "output_type": "display_data"
    }
   ],
   "source": [
    "bins = np.linspace(-200, 2000, 100)\n",
    "ch = 15\n",
    "feat = '130-170hz'\n",
    "plt.hist(prefeat03[feat][ch],bins,color='red',alpha=0.5,density=True, label = 'Preictal')\n",
    "plt.hist(interfeat03[feat][ch],bins,color='green',alpha=0.5,density=True, label = 'Interictal')\n",
    "plt.legend(loc = 'upper right')\n",
    "plt.title('Evoked HFO (130-170Hz) Power Histogram')\n",
    "plt.xlabel('Power (dB)')\n",
    "plt.ylabel('PDF')"
   ]
  },
  {
   "cell_type": "code",
   "execution_count": 260,
   "metadata": {},
   "outputs": [
    {
     "data": {
      "image/png": "[encoded data removed]",
      "text/plain": [
       "<Figure size 432x288 with 1 Axes>"
      ]
     },
     "metadata": {
      "needs_background": "light"
     },
     "output_type": "display_data"
    },
    {
     "data": {
      "image/png": "[encoded data removed]",
      "text/plain": [
       "<Figure size 432x288 with 1 Axes>"
      ]
     },
     "metadata": {
      "needs_background": "light"
     },
     "output_type": "display_data"
    },
    {
     "data": {
      "image/png": "[encoded data removed]",
      "text/plain": [
       "<Figure size 432x288 with 1 Axes>"
      ]
     },
     "metadata": {
      "needs_background": "light"
     },
     "output_type": "display_data"
    },
    {
     "data": {
      "image/png": "[encoded data removed]",
      "text/plain": [
       "<Figure size 432x288 with 1 Axes>"
      ]
     },
     "metadata": {
      "needs_background": "light"
     },
     "output_type": "display_data"
    },
    {
     "data": {
      "image/png": "[encoded data removed]",
      "text/plain": [
       "<Figure size 432x288 with 1 Axes>"
      ]
     },
     "metadata": {
      "needs_background": "light"
     },
     "output_type": "display_data"
    },
    {
     "data": {
      "image/png": "[encoded data removed]",
      "text/plain": [
       "<Figure size 432x288 with 1 Axes>"
      ]
     },
     "metadata": {
      "needs_background": "light"
     },
     "output_type": "display_data"
    },
    {
     "data": {
      "image/png": "[encoded data removed]",
      "text/plain": [
       "<Figure size 432x288 with 1 Axes>"
      ]
     },
     "metadata": {
      "needs_background": "light"
     },
     "output_type": "display_data"
    },
    {
     "data": {
      "image/png": "[encoded data removed]",
      "text/plain": [
       "<Figure size 432x288 with 1 Axes>"
      ]
     },
     "metadata": {
      "needs_background": "light"
     },
     "output_type": "display_data"
    },
    {
     "data": {
      "image/png": "[encoded data removed]",
      "text/plain": [
       "<Figure size 432x288 with 1 Axes>"
      ]
     },
     "metadata": {
      "needs_background": "light"
     },
     "output_type": "display_data"
    },
    {
     "data": {
      "image/png": "[encoded data removed]",
      "text/plain": [
       "<Figure size 432x288 with 1 Axes>"
      ]
     },
     "metadata": {
      "needs_background": "light"
     },
     "output_type": "display_data"
    },
    {
     "data": {
      "image/png": "[encoded data removed]",
      "text/plain": [
       "<Figure size 432x288 with 1 Axes>"
      ]
     },
     "metadata": {
      "needs_background": "light"
     },
     "output_type": "display_data"
    },
    {
     "data": {
      "image/png": "[encoded data removed]",
      "text/plain": [
       "<Figure size 432x288 with 1 Axes>"
      ]
     },
     "metadata": {
      "needs_background": "light"
     },
     "output_type": "display_data"
    },
    {
     "data": {
      "image/png": "[encoded data removed]",
      "text/plain": [
       "<Figure size 432x288 with 1 Axes>"
      ]
     },
     "metadata": {
      "needs_background": "light"
     },
     "output_type": "display_data"
    },
    {
     "data": {
      "image/png": "[encoded data removed]",
      "text/plain": [
       "<Figure size 432x288 with 1 Axes>"
      ]
     },
     "metadata": {
      "needs_background": "light"
     },
     "output_type": "display_data"
    },
    {
     "data": {
      "image/png": "[encoded data removed]",
      "text/plain": [
       "<Figure size 432x288 with 1 Axes>"
      ]
     },
     "metadata": {
      "needs_background": "light"
     },
     "output_type": "display_data"
    },
    {
     "data": {
      "image/png": "[encoded data removed]",
      "text/plain": [
       "<Figure size 432x288 with 1 Axes>"
      ]
     },
     "metadata": {
      "needs_background": "light"
     },
     "output_type": "display_data"
    }
   ],
   "source": [
    "for ch in range(0,16):\n",
    "    bins = np.linspace(-200, 6000, 100)\n",
    "    feat = '130-170hz'\n",
    "    plt.figure()\n",
    "    plt.hist(prefeat03[feat][ch],bins,color='red',alpha=0.5,density=True, label = 'Preictal')\n",
    "    plt.hist(interfeat03[feat][ch],bins,color='green',alpha=0.5,density=True, label = 'Interictal')\n",
    "    plt.legend(loc = 'upper right')\n",
    "    plt.title(feat + '  ch' + str(ch))"
   ]
  },
  {
   "cell_type": "code",
   "execution_count": 284,
   "metadata": {},
   "outputs": [
    {
     "data": {
      "text/plain": [
       "Text(0.5, 1.0, 'Baseline-preictal feature changes by Welch T-test (Subject 1)')"
      ]
     },
     "execution_count": 284,
     "metadata": {},
     "output_type": "execute_result"
    },
    {
     "data": {
      "image/png": "[encoded data removed]",
      "text/plain": [
       "<Figure size 432x288 with 1 Axes>"
      ]
     },
     "metadata": {
      "needs_background": "light"
     },
     "output_type": "display_data"
    }
   ],
   "source": [
    "tf01 = compmat(interfeat03,prefeat03) < 0.01/(16*11)\n",
    "plt.pcolor(tf01)\n",
    "plt.yticks(np.arange(0.5, len(tf01.index), 1), tf01.index)\n",
    "plt.xticks(np.arange(0.5, len(tf01.columns), 1), tf01.columns)\n",
    "\n",
    "plt.plot(0,0,'y')\n",
    "plt.plot(0,0,'purple')\n",
    "plt.legend(('Sig','Nonsig'))\n",
    "plt.title('Baseline-preictal feature changes by Welch T-test (Subject 1)')"
   ]
  },
  {
   "cell_type": "code",
   "execution_count": 327,
   "metadata": {},
   "outputs": [
    {
     "data": {
      "image/png": "[encoded data removed]",
      "text/plain": [
       "<Figure size 432x288 with 1 Axes>"
      ]
     },
     "metadata": {
      "needs_background": "light"
     },
     "output_type": "display_data"
    },
    {
     "data": {
      "text/plain": [
       "<Figure size 11520x11520 with 0 Axes>"
      ]
     },
     "metadata": {},
     "output_type": "display_data"
    }
   ],
   "source": [
    "tf02 = ~(compmat(interfeat03,prefeat03) < 0.01/(16*11))\n",
    "fig = plt.pcolor(tf02)\n",
    "plt.set_cmap('RdBu')\n",
    "plt.yticks(np.arange(0.5, len(tf01.index), 1), tf01.index)\n",
    "plt.xticks(np.arange(0.5, len(tf01.columns), 1), tf01.columns)\n",
    "\n",
    "plt.plot(0,0,'r')\n",
    "plt.plot(0,0,'b')\n",
    "plt.legend(('Sig','Nonsig'))\n",
    "plt.ylabel('Channels', fontsize = 16)\n",
    "plt.xlabel('Features', fontsize = 16)\n",
    "plt.title('Interictal-preictal feature changes \\n by Welch T-test (Subject 1)', fontsize = 18)\n",
    "plt.figure(figsize=(160,160))\n",
    "\n",
    "axe = fig.axes\n",
    "ax = axe\n",
    "for tick in ax.xaxis.get_major_ticks():\n",
    "    tick.label.set_fontsize(14) \n",
    "    tick.label.set_rotation('vertical')\n"
   ]
  },
  {
   "cell_type": "code",
   "execution_count": 287,
   "metadata": {},
   "outputs": [
    {
     "data": {
      "text/plain": [
       "1055.0"
      ]
     },
     "execution_count": 287,
     "metadata": {},
     "output_type": "execute_result"
    }
   ],
   "source": [
    "prefeat03.shape[0]/16"
   ]
  },
  {
   "cell_type": "code",
   "execution_count": 288,
   "metadata": {},
   "outputs": [
    {
     "data": {
      "text/plain": [
       "3362.0"
      ]
     },
     "execution_count": 288,
     "metadata": {},
     "output_type": "execute_result"
    }
   ],
   "source": [
    "interfeat03.shape[0]/16"
   ]
  },
  {
   "cell_type": "code",
   "execution_count": 359,
   "metadata": {},
   "outputs": [],
   "source": [
    "from __future__ import absolute_import, division, print_function\n",
    "from matplotlib.font_manager import _rebuild; _rebuild()\n",
    "import matplotlib.pyplot as plt\n",
    "%matplotlib inline\n",
    "import tensorflow as tf\n",
    "\n",
    "#Helper libraries\n",
    "import numpy as np\n",
    "import matplotlib.pyplot as plt\n",
    "import pandas as pd\n",
    "import scipy.io as spio\n",
    "from keras.models import Sequential\n",
    "from keras.layers import Dense\n",
    "from keras.wrappers.scikit_learn import KerasClassifier\n",
    "from keras.utils import np_utils\n",
    "from sklearn.model_selection import cross_val_score\n",
    "from sklearn.model_selection import KFold\n",
    "from sklearn.preprocessing import LabelEncoder\n",
    "from sklearn.pipeline import Pipeline\n",
    "from sklearn.model_selection import train_test_split\n",
    "from sklearn import metrics\n",
    "from sklearn.metrics import confusion_matrix \n",
    "from sklearn import svm\n",
    "from sklearn.pipeline import make_pipeline\n",
    "from sklearn.preprocessing import StandardScaler\n",
    "from sklearn.decomposition import PCA\n",
    "from sklearn.model_selection import StratifiedKFold\n",
    "from sklearn.metrics import roc_curve, auc\n",
    "from scipy import interp"
   ]
  },
  {
   "cell_type": "code",
   "execution_count": 357,
   "metadata": {},
   "outputs": [],
   "source": [
    "# Code below from Emma\n",
    "n_splits_o = 5\n",
    "n_splits_i = 4\n",
    "animal_ID = 1\n",
    "factor_red = 20\n",
    "\n",
    "# To reduce the computational expense and the number of features to try in PCA during Hyperparameter optimization\n",
    "nb_feats_min = 1\n",
    "nb_feats_max = 11\n",
    "\n",
    "animal_ID = animal_ID\n",
    "animal_names = {1: \"1\", 2: \"2\"}"
   ]
  },
  {
   "cell_type": "code",
   "execution_count": 344,
   "metadata": {},
   "outputs": [],
   "source": [
    "# Initialize random number generator for reproducibility.\n",
    "seed = 7\n",
    "np.random.seed(seed)\n",
    "\n",
    "# Load in dataset.\n",
    "# data = spio.loadmat(\"features_10s_2019-01-30.mat\");\n",
    "\n",
    "featuresp = prefeat03\n",
    "labelsp = np.ones(prefeat03.shape[0])\n",
    "\n",
    "features = featuresp.append(interfeat03)\n",
    "labels = np.append(labelsp, np.zeros(interfeat03.shape[0]))\n",
    "\n",
    "# animal_id_features = data['animal_id_features'];\n",
    "\n",
    "# Flatten animal IDs so we can slice by animal.\n",
    "# id_features = np.ravel(animal_id_features);\n",
    "\n",
    "# Indexes animal of interest.\n",
    "# indexes = np.where(id_features == animal_ID)\n",
    "# indexes = np.ravel(indexes)\n",
    "\n",
    "# Get only features corresponding to animal selected.\n",
    "# animal_features = np.array([features[index, :] for index in indexes])\n",
    "# labels = labels.transpose()\n",
    "# animal_labels = np.array([labels[index] for index in indexes]);"
   ]
  },
  {
   "cell_type": "code",
   "execution_count": 363,
   "metadata": {},
   "outputs": [
    {
     "name": "stdout",
     "output_type": "stream",
     "text": [
      "(70672, 11)\n",
      "(70672,)\n"
     ]
    }
   ],
   "source": [
    "print(features.shape)\n",
    "print(labels.shape)"
   ]
  },
  {
   "cell_type": "code",
   "execution_count": 367,
   "metadata": {},
   "outputs": [],
   "source": [
    "\"\"\"Reducing the size of the vectors for easier computation\"\"\"\n",
    "# factor = factor_red\n",
    "factor = 2\n",
    "animal_features = features.values\n",
    "animal_labels = labels\n",
    "\"\"\"Shuffling the data to train/test on smaller subsets\"\"\"\n",
    "shuffled_animal_features = np.empty(animal_features.shape, dtype=animal_features.dtype)\n",
    "shuffled_animal_labels = np.empty(animal_labels.shape, dtype=animal_labels.dtype)\n",
    "permutation = np.random.permutation(len(animal_labels))\n",
    "for old_index, new_index in enumerate(permutation):\n",
    "        shuffled_animal_features [new_index] = animal_features[old_index]\n",
    "        shuffled_animal_labels[new_index] = animal_labels[old_index]\n",
    "animal_features = shuffled_animal_features\n",
    "animal_labels = shuffled_animal_labels\n",
    "\n",
    "animal_features = animal_features[0:int(len(animal_features)/factor),:]\n",
    "animal_labels = animal_labels[0:np.int(len(animal_labels)/factor)]"
   ]
  },
  {
   "cell_type": "code",
   "execution_count": 368,
   "metadata": {},
   "outputs": [
    {
     "name": "stdout",
     "output_type": "stream",
     "text": [
      "(35336,)\n",
      "(35336, 11)\n"
     ]
    }
   ],
   "source": [
    "print(animal_labels.shape)\n",
    "print(animal_features.shape)"
   ]
  },
  {
   "cell_type": "code",
   "execution_count": null,
   "metadata": {},
   "outputs": [],
   "source": [
    "\"\"\"Split data into training and testing sets\"\"\"\n",
    "\n",
    "# parameters:\n",
    "n_splits_o = n_splits_o\n",
    "n_splits_i = n_splits_i\n",
    "nb_features_tot = animal_features.shape[1]\n",
    "\n",
    "cv_o = StratifiedKFold(n_splits=n_splits_o)\n",
    "cv_i = StratifiedKFold(n_splits=n_splits_i)\n",
    "\n",
    "\n",
    "AUC_i = np.zeros((n_splits_o, n_splits_i, nb_features_tot))\n",
    "AUC_means = np.zeros((n_splits_o, nb_features_tot))\n",
    "# Acc_train_i = np.zeros((n_splits_o, n_splits_i))\n",
    "# Acc_val_i = np.zeros((n_splits_o, n_splits_i))\n",
    "Best_features = np.zeros(n_splits_o)\n",
    "Best_features_valAUC = np.zeros(n_splits_o)\n",
    "AUC_o = np.zeros(n_splits_o)\n",
    "\n",
    "tprs = []\n",
    "mean_fpr = np.linspace(0, 1, 100)\n",
    "\n",
    "\n",
    "\"\"\"Outer loop\"\"\"\n",
    "k_out = 0\n",
    "for train_o, test in cv_o.split(animal_features, animal_labels):\n",
    "    data_train_o = animal_features[train_o]\n",
    "    data_test = animal_features[test]\n",
    "    labels_train_o = animal_labels[train_o]\n",
    "    labels_test = animal_labels[test]\n",
    "    \n",
    "    \"\"\"Inner Loop\"\"\"\n",
    "    k_in = 0\n",
    "    for train_i, val in cv_i.split(data_train_o, labels_train_o):\n",
    "\n",
    "        data_train_i = animal_features[train_i]\n",
    "        data_val = animal_features[val]\n",
    "        labels_train_i = animal_labels[train_i]\n",
    "        labels_val = animal_labels[val]\n",
    "\n",
    "        \"\"\"Hyperparameter evaluation: Number of features to keep after PCA\"\"\"\n",
    "        for k_feat in range(nb_feats_min, nb_feats_max):\n",
    "            features_kept = k_feat + 1 \n",
    "\n",
    "            clf = make_pipeline(StandardScaler(), PCA(n_components=features_kept), svm.SVC(kernel='rbf', gamma='scale', probability=True))\n",
    "            y_score = clf.fit(data_train_i, labels_train_i)\n",
    "\n",
    "            y_predict = clf.predict_proba(data_val)\n",
    "            y_predict_train = clf.predict(data_train_i)\n",
    "\n",
    "#             Acc_val_i[k_out, k_in] = metrics.accuracy_score(labels_val, y_predict)\n",
    "#             Acc_train_i[k_out, k_in] = metrics.accuracy_score(labels_train_i, y_predict_train)\n",
    "            fpr, tpr, thresholds = roc_curve(labels_val, y_predict[:, 1])\n",
    "            AUC_i[k_out, k_in, k_feat] = auc(fpr, tpr)\n",
    "        \n",
    "        print('Process ended, outer fold ', k_out, ', inner fold ', k_in)\n",
    "        k_in += 1\n",
    "        \n",
    "    AUC_means = np.mean(AUC_i, axis=1)\n",
    "    \n",
    "    \"\"\"Choice of the best performing Hyperparameters:\"\"\"\n",
    "    Best_features[k_out] = int(np.argmax(AUC_means[k_out,:]) + 1)\n",
    "    Best_features_valAUC[k_out] = np.max(AUC_means[k_out,:])\n",
    "    \n",
    "    \"\"\"Performance on the test set\"\"\"\n",
    "    clf = make_pipeline(StandardScaler(), PCA(n_components=int(Best_features[k_out])), svm.SVC(kernel='rbf', gamma='scale', probability=True))\n",
    "    y_score = clf.fit(data_train_o, labels_train_o)\n",
    "    \n",
    "    y_predict = clf.predict_proba(data_test)\n",
    "    y_predict_train = clf.predict(data_train_o)\n",
    "    \n",
    "    \"\"\"ROC curve\"\"\"\n",
    "    fpr, tpr, thresholds = roc_curve(labels_test, y_predict[:, 1])\n",
    "    tprs.append(interp(mean_fpr, fpr, tpr))\n",
    "    tprs[-1][0] = 0.0\n",
    "    AUC_o[k_out] = auc(fpr, tpr)\n",
    "    plt.plot(fpr, tpr, lw=1, alpha=0.3,\n",
    "             label='ROC fold %d (AUC = %0.2f for %d PCs)' % (k_out+1, AUC_o[k_out], int(Best_features[k_out])))  \n",
    "    \n",
    "    print('Process ended, outer fold ', k_out)\n",
    "    k_out += 1\n",
    "\n",
    "\"\"\"mean ROC curve\"\"\"             \n",
    "mean_tpr = np.mean(tprs, axis=0)\n",
    "mean_tpr[-1] = 1.0\n",
    "mean_auc = auc(mean_fpr, mean_tpr)\n",
    "std_auc = np.std(AUC_o)\n",
    "plt.plot(mean_fpr, mean_tpr, color='b',\n",
    "         label=r'Mean ROC (AUC = %0.2f $\\pm$ %0.2f)' % (mean_auc, std_auc),\n",
    "         lw=2, alpha=.8)\n",
    "\n",
    "std_tpr = np.std(tprs, axis=0)\n",
    "tprs_upper = np.minimum(mean_tpr + std_tpr, 1)\n",
    "tprs_lower = np.maximum(mean_tpr - std_tpr, 0)\n",
    "plt.fill_between(mean_fpr, tprs_lower, tprs_upper, color='grey', alpha=.2,\n",
    "                 label=r'$\\pm$ 1 std. dev.')       \n",
    "    \n",
    "plt.plot([0, 1], [0, 1], linestyle='--', lw=2, color='r',\n",
    "         label='Chance', alpha=.8)    \n",
    "plt.xlim([-0.05, 1.05])\n",
    "plt.ylim([-0.05, 1.05])\n",
    "plt.xlabel('False Positive Rate')\n",
    "plt.ylabel('True Positive Rate')\n",
    "plt.title('Receiver operating characteristic for subject %s (%d folds CV_out, %d folds CV_in, data randomly reduced by factor %d)' % (animal_names[animal_ID], n_splits_o, n_splits_i, factor_red))\n",
    "plt.legend(loc=\"lower right\")\n",
    "plt.savefig('ROC_' + animal_names[animal_ID] + '.png')  \n",
    "plt.show()"
   ]
  },
  {
   "cell_type": "code",
   "execution_count": null,
   "metadata": {},
   "outputs": [],
   "source": [
    "# why are data not normalized prior to PCA?\n",
    "# to try on zscored data and original data without PCA"
   ]
  }
 ],
 "metadata": {
  "kernelspec": {
   "display_name": "Python 3",
   "language": "python",
   "name": "python3"
  },
  "language_info": {
   "codemirror_mode": {
    "name": "ipython",
    "version": 3
   },
   "file_extension": ".py",
   "mimetype": "text/x-python",
   "name": "python",
   "nbconvert_exporter": "python",
   "pygments_lexer": "ipython3",
   "version": "3.6.8"
  }
 },
 "nbformat": 4,
 "nbformat_minor": 2
}
