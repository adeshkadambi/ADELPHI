{
 "cells": [
  {
   "cell_type": "code",
   "execution_count": 1,
   "metadata": {
    "collapsed": false
   },
   "outputs": [],
   "source": [
    "import scipy.io as sio\n",
    "import numpy as np\n",
    "import sklearn as sk\n",
    "import scipy as sp"
   ]
  },
  {
   "cell_type": "code",
   "execution_count": 2,
   "metadata": {
    "collapsed": false
   },
   "outputs": [],
   "source": [
    "rawdat = sio.loadmat('C:\\\\Users\\\\Senan\\\\Downloads\\\\features_60s_2019-01-22.mat')"
   ]
  },
  {
   "cell_type": "code",
   "execution_count": 3,
   "metadata": {
    "collapsed": false
   },
   "outputs": [
    {
     "name": "stdout",
     "output_type": "stream",
     "text": [
      "{'features': array([[4.97669727e-02, 5.08750680e-02, 3.42177723e-02, ...,\n",
      "        3.00000000e+01, 1.21000000e+02, 5.70000000e+01],\n",
      "       [5.33370961e-02, 5.29653061e-02, 3.61189760e-02, ...,\n",
      "        2.80000000e+01, 1.40000000e+02, 5.90000000e+01],\n",
      "       [5.42883730e-02, 5.38378973e-02, 3.74148184e-02, ...,\n",
      "        3.90000000e+01, 1.16000000e+02, 5.00000000e+01],\n",
      "       ...,\n",
      "       [7.37099596e-03, 1.93174949e-03, 5.58250459e-04, ...,\n",
      "        1.15000000e+02, 7.00000000e+00, 6.70000000e+01],\n",
      "       [6.79745120e-03, 1.85811278e-03, 4.96819514e-04, ...,\n",
      "        1.68000000e+02, 2.40000000e+01, 4.60000000e+01],\n",
      "       [5.98185017e-03, 1.78214779e-03, 4.80793333e-04, ...,\n",
      "        1.58000000e+02, 5.00000000e+00, 5.50000000e+01]]), 'feat_names': array([[array([u'RMS ch1'], dtype='<U7')],\n",
      "       [array([u'RMS ch2'], dtype='<U7')],\n",
      "       [array([u'RMS ch3'], dtype='<U7')],\n",
      "       [array([u'Coastline ch1'], dtype='<U13')],\n",
      "       [array([u'Coastline ch2'], dtype='<U13')],\n",
      "       [array([u'Coastline ch3'], dtype='<U13')],\n",
      "       [array([u'Band power ch1 0.5-4Hz'], dtype='<U22')],\n",
      "       [array([u'Band power ch2 0.5-4Hz'], dtype='<U22')],\n",
      "       [array([u'Band power ch3 0.5-4Hz'], dtype='<U22')],\n",
      "       [array([u'Band power ch1 4-8Hz'], dtype='<U20')],\n",
      "       [array([u'Band power ch2 4-8Hz'], dtype='<U20')],\n",
      "       [array([u'Band power ch3 4-8Hz'], dtype='<U20')],\n",
      "       [array([u'Band power ch1 8-12Hz'], dtype='<U21')],\n",
      "       [array([u'Band power ch2 8-12Hz'], dtype='<U21')],\n",
      "       [array([u'Band power ch3 8-12Hz'], dtype='<U21')],\n",
      "       [array([u'Band power ch1 12-16Hz'], dtype='<U22')],\n",
      "       [array([u'Band power ch2 12-16Hz'], dtype='<U22')],\n",
      "       [array([u'Band power ch3 12-16Hz'], dtype='<U22')],\n",
      "       [array([u'Band power ch1 16-25Hz'], dtype='<U22')],\n",
      "       [array([u'Band power ch2 16-25Hz'], dtype='<U22')],\n",
      "       [array([u'Band power ch3 16-25Hz'], dtype='<U22')],\n",
      "       [array([u'Band power ch1 25-50Hz'], dtype='<U22')],\n",
      "       [array([u'Band power ch2 25-50Hz'], dtype='<U22')],\n",
      "       [array([u'Band power ch3 25-50Hz'], dtype='<U22')],\n",
      "       [array([u'Band power ch1 70-100Hz'], dtype='<U23')],\n",
      "       [array([u'Band power ch2 70-100Hz'], dtype='<U23')],\n",
      "       [array([u'Band power ch3 70-100Hz'], dtype='<U23')],\n",
      "       [array([u'Band power normalized ch1 0.5-4Hz'], dtype='<U33')],\n",
      "       [array([u'Band power normalized ch2 0.5-4Hz'], dtype='<U33')],\n",
      "       [array([u'Band power normalized ch3 0.5-4Hz'], dtype='<U33')],\n",
      "       [array([u'Band power normalized ch1 4-8Hz'], dtype='<U31')],\n",
      "       [array([u'Band power normalized ch2 4-8Hz'], dtype='<U31')],\n",
      "       [array([u'Band power normalized ch3 4-8Hz'], dtype='<U31')],\n",
      "       [array([u'Band power normalized ch1 8-12Hz'], dtype='<U32')],\n",
      "       [array([u'Band power normalized ch2 8-12Hz'], dtype='<U32')],\n",
      "       [array([u'Band power normalized ch3 8-12Hz'], dtype='<U32')],\n",
      "       [array([u'Band power normalized ch1 12-16Hz'], dtype='<U33')],\n",
      "       [array([u'Band power normalized ch2 12-16Hz'], dtype='<U33')],\n",
      "       [array([u'Band power normalized ch3 12-16Hz'], dtype='<U33')],\n",
      "       [array([u'Band power normalized ch1 16-25Hz'], dtype='<U33')],\n",
      "       [array([u'Band power normalized ch2 16-25Hz'], dtype='<U33')],\n",
      "       [array([u'Band power normalized ch3 16-25Hz'], dtype='<U33')],\n",
      "       [array([u'Band power normalized ch1 25-50Hz'], dtype='<U33')],\n",
      "       [array([u'Band power normalized ch2 25-50Hz'], dtype='<U33')],\n",
      "       [array([u'Band power normalized ch3 25-50Hz'], dtype='<U33')],\n",
      "       [array([u'Band power normalized ch1 70-100Hz'], dtype='<U34')],\n",
      "       [array([u'Band power normalized ch2 70-100Hz'], dtype='<U34')],\n",
      "       [array([u'Band power normalized ch3 70-100Hz'], dtype='<U34')],\n",
      "       [array([u'Spectral edge frequency ch1'], dtype='<U27')],\n",
      "       [array([u'Spectral edge frequency ch2'], dtype='<U27')],\n",
      "       [array([u'Spectral edge frequency ch3'], dtype='<U27')],\n",
      "       [array([u'Skewness ch1'], dtype='<U12')],\n",
      "       [array([u'Skewness ch2'], dtype='<U12')],\n",
      "       [array([u'Skewness ch3'], dtype='<U12')],\n",
      "       [array([u'Kurtosis ch1'], dtype='<U12')],\n",
      "       [array([u'Kurtosis ch2'], dtype='<U12')],\n",
      "       [array([u'Kurtosis ch3'], dtype='<U12')],\n",
      "       [array([u'Autocorrelation function ch1'], dtype='<U28')],\n",
      "       [array([u'Autocorrelation function ch2'], dtype='<U28')],\n",
      "       [array([u'Autocorrelation function ch3'], dtype='<U28')],\n",
      "       [array([u'Hjorth: activity ch1'], dtype='<U20')],\n",
      "       [array([u'Hjorth: activity ch2'], dtype='<U20')],\n",
      "       [array([u'Hjorth: activity ch3'], dtype='<U20')],\n",
      "       [array([u'Hjorth: mobility ch1'], dtype='<U20')],\n",
      "       [array([u'Hjorth: mobility ch2'], dtype='<U20')],\n",
      "       [array([u'Hjorth: mobility ch3'], dtype='<U20')],\n",
      "       [array([u'Hjorth: complexity ch1'], dtype='<U22')],\n",
      "       [array([u'Hjorth: complexity ch2'], dtype='<U22')],\n",
      "       [array([u'Hjorth: complexity ch3'], dtype='<U22')],\n",
      "       [array([u'Maximum cross-correlation ch1-2'], dtype='<U31')],\n",
      "       [array([u'Maximum cross-correlation ch1-3'], dtype='<U31')],\n",
      "       [array([u'Maximum cross-correlation ch2-3'], dtype='<U31')],\n",
      "       [array([u'Coherence ch1-2 0.5-4Hz'], dtype='<U23')],\n",
      "       [array([u'Coherence ch1-2 4-8Hz'], dtype='<U21')],\n",
      "       [array([u'Coherence ch1-2 8-12Hz'], dtype='<U22')],\n",
      "       [array([u'Coherence ch1-2 12-16Hz'], dtype='<U23')],\n",
      "       [array([u'Coherence ch1-2 16-25Hz'], dtype='<U23')],\n",
      "       [array([u'Coherence ch1-2 25-50Hz'], dtype='<U23')],\n",
      "       [array([u'Coherence ch1-2 70-100Hz'], dtype='<U24')],\n",
      "       [array([u'Coherence ch1-3 0.5-4Hz'], dtype='<U23')],\n",
      "       [array([u'Coherence ch1-3 4-8Hz'], dtype='<U21')],\n",
      "       [array([u'Coherence ch1-3 8-12Hz'], dtype='<U22')],\n",
      "       [array([u'Coherence ch1-3 12-16Hz'], dtype='<U23')],\n",
      "       [array([u'Coherence ch1-3 16-25Hz'], dtype='<U23')],\n",
      "       [array([u'Coherence ch1-3 25-50Hz'], dtype='<U23')],\n",
      "       [array([u'Coherence ch1-3 70-100Hz'], dtype='<U24')],\n",
      "       [array([u'Coherence ch2-3 0.5-4Hz'], dtype='<U23')],\n",
      "       [array([u'Coherence ch2-3 4-8Hz'], dtype='<U21')],\n",
      "       [array([u'Coherence ch2-3 8-12Hz'], dtype='<U22')],\n",
      "       [array([u'Coherence ch2-3 12-16Hz'], dtype='<U23')],\n",
      "       [array([u'Coherence ch2-3 16-25Hz'], dtype='<U23')],\n",
      "       [array([u'Coherence ch2-3 25-50Hz'], dtype='<U23')],\n",
      "       [array([u'Coherence ch2-3 70-100Hz'], dtype='<U24')],\n",
      "       [array([u'Non-linear energy ch1'], dtype='<U21')],\n",
      "       [array([u'Non-linear energy ch2'], dtype='<U21')],\n",
      "       [array([u'Non-linear energy ch3'], dtype='<U21')],\n",
      "       [array([u'Spectral entropy ch1'], dtype='<U20')],\n",
      "       [array([u'Spectral entropy ch2'], dtype='<U20')],\n",
      "       [array([u'Spectral entropy ch3'], dtype='<U20')],\n",
      "       [array([u'State entropy ch1'], dtype='<U17')],\n",
      "       [array([u'State entropy ch2'], dtype='<U17')],\n",
      "       [array([u'State entropy ch3'], dtype='<U17')],\n",
      "       [array([u'Response entropy ch1'], dtype='<U20')],\n",
      "       [array([u'Response entropy ch2'], dtype='<U20')],\n",
      "       [array([u'Response entropy ch3'], dtype='<U20')],\n",
      "       [array([u'Renyi entropy ch1'], dtype='<U17')],\n",
      "       [array([u'Renyi entropy ch2'], dtype='<U17')],\n",
      "       [array([u'Renyi entropy ch3'], dtype='<U17')],\n",
      "       [array([u'Shannon entropy ch1'], dtype='<U19')],\n",
      "       [array([u'Shannon entropy ch2'], dtype='<U19')],\n",
      "       [array([u'Shannon entropy ch3'], dtype='<U19')],\n",
      "       [array([u'Spikes ch1'], dtype='<U10')],\n",
      "       [array([u'Spikes ch2'], dtype='<U10')],\n",
      "       [array([u'Spikes ch3'], dtype='<U10')],\n",
      "       [array([u'Fractal dimension ch1'], dtype='<U21')],\n",
      "       [array([u'Fractal dimension ch2'], dtype='<U21')],\n",
      "       [array([u'Fractal dimension ch3'], dtype='<U21')],\n",
      "       [array([u'Phase synchronization index ch1-2 0.5-4Hz'], dtype='<U41')],\n",
      "       [array([u'Phase synchronization index ch1-2 4-8Hz'], dtype='<U39')],\n",
      "       [array([u'Phase synchronization index ch1-2 8-12Hz'], dtype='<U40')],\n",
      "       [array([u'Phase synchronization index ch1-2 12-16Hz'], dtype='<U41')],\n",
      "       [array([u'Phase synchronization index ch1-2 16-25Hz'], dtype='<U41')],\n",
      "       [array([u'Phase synchronization index ch1-2 25-50Hz'], dtype='<U41')],\n",
      "       [array([u'Phase synchronization index ch1-2 70-100Hz'], dtype='<U42')],\n",
      "       [array([u'Phase synchronization index ch1-3 0.5-4Hz'], dtype='<U41')],\n",
      "       [array([u'Phase synchronization index ch1-3 4-8Hz'], dtype='<U39')],\n",
      "       [array([u'Phase synchronization index ch1-3 8-12Hz'], dtype='<U40')],\n",
      "       [array([u'Phase synchronization index ch1-3 12-16Hz'], dtype='<U41')],\n",
      "       [array([u'Phase synchronization index ch1-3 16-25Hz'], dtype='<U41')],\n",
      "       [array([u'Phase synchronization index ch1-3 25-50Hz'], dtype='<U41')],\n",
      "       [array([u'Phase synchronization index ch1-3 70-100Hz'], dtype='<U42')],\n",
      "       [array([u'Phase synchronization index ch2-3 0.5-4Hz'], dtype='<U41')],\n",
      "       [array([u'Phase synchronization index ch2-3 4-8Hz'], dtype='<U39')],\n",
      "       [array([u'Phase synchronization index ch2-3 8-12Hz'], dtype='<U40')],\n",
      "       [array([u'Phase synchronization index ch2-3 12-16Hz'], dtype='<U41')],\n",
      "       [array([u'Phase synchronization index ch2-3 16-25Hz'], dtype='<U41')],\n",
      "       [array([u'Phase synchronization index ch2-3 25-50Hz'], dtype='<U41')],\n",
      "       [array([u'Phase synchronization index ch2-3 70-100Hz'], dtype='<U42')],\n",
      "       [array([u'HFOs ch1'], dtype='<U8')],\n",
      "       [array([u'HFOs ch2'], dtype='<U8')],\n",
      "       [array([u'HFOs ch3'], dtype='<U8')]], dtype=object), 'labels_features': array([[1, 1, 1, ..., 0, 0, 0]], dtype=uint8), 'animal_id_features': array([[1, 1, 1, ..., 1, 1, 1]], dtype=uint8), '__header__': 'MATLAB 5.0 MAT-file, Platform: PCWIN64, Created on: Tue Jan 22 04:08:50 2019', '__globals__': [], 'label_names': array([[array([u'Normal'], dtype='<U6'),\n",
      "        array([u'Pre-ictal'], dtype='<U9'),\n",
      "        array([u'Seizure'], dtype='<U7')]], dtype=object), 'animal_names': array([[array([u'fKH57'], dtype='<U5')]], dtype=object), 'i_period': array([[1, 0, 0, ..., 0, 0, 0]], dtype=uint8), '__version__': '1.0', 'dataset_params': array([[(array([[3600]], dtype=uint16), array([[30]], dtype=uint8), array([[3600]], dtype=uint16), array([[7200]], dtype=uint16), array([[1]], dtype=uint8))]],\n",
      "      dtype=[('preictal_s', 'O'), ('szbuffer_s', 'O'), ('normal_s', 'O'), ('szdist_s', 'O'), ('ratio_normalpreictal', 'O')])}\n"
     ]
    }
   ],
   "source": [
    "print(rawdat)"
   ]
  },
  {
   "cell_type": "code",
   "execution_count": 4,
   "metadata": {
    "collapsed": true
   },
   "outputs": [],
   "source": [
    "feats = rawdat['features']"
   ]
  },
  {
   "cell_type": "code",
   "execution_count": 5,
   "metadata": {
    "collapsed": false
   },
   "outputs": [
    {
     "data": {
      "text/plain": [
       "1480"
      ]
     },
     "execution_count": 5,
     "metadata": {},
     "output_type": "execute_result"
    }
   ],
   "source": [
    "len(feats)"
   ]
  },
  {
   "cell_type": "code",
   "execution_count": 6,
   "metadata": {
    "collapsed": false
   },
   "outputs": [
    {
     "data": {
      "text/plain": [
       "(1480L, 141L)"
      ]
     },
     "execution_count": 6,
     "metadata": {},
     "output_type": "execute_result"
    }
   ],
   "source": [
    "feats.shape\n"
   ]
  },
  {
   "cell_type": "code",
   "execution_count": 7,
   "metadata": {
    "collapsed": false
   },
   "outputs": [
    {
     "data": {
      "text/plain": [
       "numpy.ndarray"
      ]
     },
     "execution_count": 7,
     "metadata": {},
     "output_type": "execute_result"
    }
   ],
   "source": [
    "type(feats)"
   ]
  },
  {
   "cell_type": "code",
   "execution_count": 8,
   "metadata": {
    "collapsed": true
   },
   "outputs": [],
   "source": [
    "labels = rawdat['labels_features']"
   ]
  },
  {
   "cell_type": "code",
   "execution_count": 9,
   "metadata": {
    "collapsed": false
   },
   "outputs": [
    {
     "data": {
      "text/plain": [
       "(1L, 1480L)"
      ]
     },
     "execution_count": 9,
     "metadata": {},
     "output_type": "execute_result"
    }
   ],
   "source": [
    "labels.shape"
   ]
  },
  {
   "cell_type": "code",
   "execution_count": 10,
   "metadata": {
    "collapsed": true
   },
   "outputs": [],
   "source": [
    "rawdat2 = sio.loadmat('C:\\\\Users\\\\Senan\\\\Downloads\\\\features_60s_2019-01-21.mat')"
   ]
  },
  {
   "cell_type": "code",
   "execution_count": 11,
   "metadata": {
    "collapsed": true
   },
   "outputs": [],
   "source": [
    "feats2 = rawdat['features']\n",
    "labels2 = rawdat['labels_features']"
   ]
  },
  {
   "cell_type": "code",
   "execution_count": 12,
   "metadata": {
    "collapsed": false
   },
   "outputs": [
    {
     "data": {
      "text/plain": [
       "(1480L, 141L)"
      ]
     },
     "execution_count": 12,
     "metadata": {},
     "output_type": "execute_result"
    }
   ],
   "source": [
    "feats2.shape"
   ]
  },
  {
   "cell_type": "code",
   "execution_count": 13,
   "metadata": {
    "collapsed": true
   },
   "outputs": [],
   "source": [
    "# def seg_data():\n",
    "#     len(feats2)*np.rand()\n",
    "#     traindata = \n",
    "#     valdata = \n",
    "#     testdata = "
   ]
  },
  {
   "cell_type": "code",
   "execution_count": 14,
   "metadata": {
    "collapsed": false
   },
   "outputs": [],
   "source": [
    "from sklearn.model_selection import train_test_split"
   ]
  },
  {
   "cell_type": "code",
   "execution_count": 15,
   "metadata": {
    "collapsed": false
   },
   "outputs": [],
   "source": [
    "xtrain, xtest, ytrain,ytest = train_test_split(feats2, labels2.T)"
   ]
  },
  {
   "cell_type": "code",
   "execution_count": 16,
   "metadata": {
    "collapsed": false
   },
   "outputs": [
    {
     "name": "stdout",
     "output_type": "stream",
     "text": [
      "[[6.43894371e-03 1.66360315e-03 7.09069216e-04 ... 2.15000000e+02\n",
      "  2.70000000e+01 1.17000000e+02]\n",
      " [3.42236391e-03 1.18984609e-03 3.16167828e-04 ... 1.00000000e+00\n",
      "  1.00000000e+00 4.20000000e+01]\n",
      " [1.16715301e-01 4.66145086e-02 3.17224566e-02 ... 6.20000000e+01\n",
      "  1.26000000e+02 9.70000000e+01]\n",
      " ...\n",
      " [8.03890357e-02 4.77852187e-02 3.15843834e-02 ... 2.20000000e+01\n",
      "  1.02000000e+02 5.40000000e+01]\n",
      " [2.56846489e-03 1.09790465e-03 2.91560734e-04 ... 1.00000000e+00\n",
      "  1.00000000e+00 1.00000000e+00]\n",
      " [4.62439989e-02 4.75440787e-02 3.21858138e-02 ... 6.00000000e+01\n",
      "  1.39000000e+02 4.20000000e+01]]\n"
     ]
    }
   ],
   "source": [
    "print(xtrain)"
   ]
  },
  {
   "cell_type": "code",
   "execution_count": 17,
   "metadata": {
    "collapsed": false
   },
   "outputs": [
    {
     "name": "stdout",
     "output_type": "stream",
     "text": [
      "[[0]\n",
      " [0]\n",
      " [1]\n",
      " ...\n",
      " [1]\n",
      " [0]\n",
      " [1]]\n"
     ]
    }
   ],
   "source": [
    "print(ytrain)"
   ]
  },
  {
   "cell_type": "code",
   "execution_count": 18,
   "metadata": {
    "collapsed": false
   },
   "outputs": [
    {
     "ename": "ImportError",
     "evalue": "cannot import name LogisticRegresssion",
     "output_type": "error",
     "traceback": [
      "\u001b[1;31m---------------------------------------------------------------------------\u001b[0m",
      "\u001b[1;31mImportError\u001b[0m                               Traceback (most recent call last)",
      "\u001b[1;32m<ipython-input-18-f9c3915d8df9>\u001b[0m in \u001b[0;36m<module>\u001b[1;34m()\u001b[0m\n\u001b[1;32m----> 1\u001b[1;33m \u001b[1;32mfrom\u001b[0m \u001b[0msklearn\u001b[0m\u001b[1;33m.\u001b[0m\u001b[0mlinear_model\u001b[0m \u001b[1;32mimport\u001b[0m \u001b[0mLogisticRegresssion\u001b[0m\u001b[1;33m\u001b[0m\u001b[0m\n\u001b[0m",
      "\u001b[1;31mImportError\u001b[0m: cannot import name LogisticRegresssion"
     ]
    }
   ],
   "source": [
    "from sklearn.linear_model import LogisticRegresssion"
   ]
  },
  {
   "cell_type": "code",
   "execution_count": null,
   "metadata": {
    "collapsed": true
   },
   "outputs": [],
   "source": []
  },
  {
   "cell_type": "code",
   "execution_count": null,
   "metadata": {
    "collapsed": true
   },
   "outputs": [],
   "source": []
  }
 ],
 "metadata": {
  "kernelspec": {
   "display_name": "Python 2",
   "language": "python",
   "name": "python2"
  },
  "language_info": {
   "codemirror_mode": {
    "name": "ipython",
    "version": 2
   },
   "file_extension": ".py",
   "mimetype": "text/x-python",
   "name": "python",
   "nbconvert_exporter": "python",
   "pygments_lexer": "ipython2",
   "version": "2.7.13"
  }
 },
 "nbformat": 4,
 "nbformat_minor": 0
}
