{
 "cells": [
  {
   "cell_type": "markdown",
   "metadata": {},
   "source": [
    "# SVM Model for each animal"
   ]
  },
  {
   "cell_type": "markdown",
   "metadata": {},
   "source": [
    "Goal here to assess the performance of the classifier for each animal.\n",
    "For each animal, split train and test data (external cross validation).\n",
    "In the training data, make a second cross-val (internal cross-val, train-validation) to optimize the hyperparameters.\n",
    "Decide the model at the end of this cross-val with the best-performing average AUC\n",
    "\n",
    "Train the model on the outer cross-val training set\n",
    "Test it on the test set.\n",
    "This will give n models with n performances"
   ]
  },
  {
   "cell_type": "code",
   "execution_count": 1,
   "metadata": {},
   "outputs": [
    {
     "name": "stderr",
     "output_type": "stream",
     "text": [
      "Using TensorFlow backend.\n"
     ]
    }
   ],
   "source": [
    "from __future__ import absolute_import, division, print_function\n",
    "from matplotlib.font_manager import _rebuild; _rebuild()\n",
    "import matplotlib.pyplot as plt\n",
    "%matplotlib inline\n",
    "import tensorflow as tf\n",
    "\n",
    "#Helper libraries\n",
    "import numpy as np\n",
    "import matplotlib.pyplot as plt\n",
    "import pandas as pd\n",
    "import scipy.io as spio\n",
    "from keras.models import Sequential\n",
    "from keras.layers import Dense\n",
    "from keras.wrappers.scikit_learn import KerasClassifier\n",
    "from keras.utils import np_utils\n",
    "from sklearn.model_selection import cross_val_score\n",
    "from sklearn.model_selection import KFold\n",
    "from sklearn.preprocessing import LabelEncoder\n",
    "from sklearn.pipeline import Pipeline\n",
    "from sklearn.model_selection import train_test_split\n",
    "from sklearn import metrics\n",
    "from sklearn.metrics import confusion_matrix \n",
    "from sklearn import svm\n",
    "from sklearn.pipeline import make_pipeline\n",
    "from sklearn.preprocessing import StandardScaler\n",
    "from sklearn.decomposition import PCA\n",
    "from sklearn.model_selection import StratifiedKFold\n",
    "from sklearn.metrics import roc_curve, auc\n",
    "from scipy import interp\n",
    "\n",
    "tf.logging.set_verbosity(tf.logging.INFO)"
   ]
  },
  {
   "cell_type": "code",
   "execution_count": 2,
   "metadata": {},
   "outputs": [],
   "source": [
    "\"\"\"Set all global parameters to be monitored\"\"\"\n",
    "\n",
    "n_splits_o = 5\n",
    "n_splits_i = 4\n",
    "animal_ID = 12\n",
    "factor_red = 20\n",
    "\n",
    "# To reduce the computational expense and the number of features to try in PCA during Hyperparameter optimization\n",
    "nb_feats_min = 70\n",
    "nb_feats_max = 110"
   ]
  },
  {
   "cell_type": "code",
   "execution_count": 3,
   "metadata": {},
   "outputs": [],
   "source": [
    "\"\"\"Set sthe animal ID\"\"\"\n",
    "\n",
    "animal_ID = animal_ID\n",
    "animal_names = {1: \"fKH41\", 2: \"fKH42\", 3: \"fKH43\", 4: \"fKH47\", 5: \"fKH50\", 6: \"fKH51\", 7: \"fKH52\", 8: \"fKH54\", 9: \"fKH56\", 10: \"fKH57\", 11: \"fKH58\", 12: \"fKH33\"}\n"
   ]
  },
  {
   "cell_type": "code",
   "execution_count": 4,
   "metadata": {},
   "outputs": [],
   "source": [
    "\"\"\"Load the dataset and set randomness.\"\"\"\n",
    "# (from Emma's code)\n",
    "\n",
    "# Initialize random number generator for reproducibility.\n",
    "seed = 7\n",
    "np.random.seed(seed)\n",
    "\n",
    "# Load in dataset.\n",
    "data = spio.loadmat(\"features_10s_2019-01-30.mat\");\n",
    "features = data['features'];\n",
    "labels = data['labels_features'];\n",
    "animal_id_features = data['animal_id_features'];\n",
    "\n",
    "# Flatten animal IDs so we can slice by animal.\n",
    "id_features = np.ravel(animal_id_features);\n",
    "\n",
    "# Indexes animal of interest.\n",
    "indexes = np.where(id_features == animal_ID)\n",
    "indexes = np.ravel(indexes)\n",
    "\n",
    "# Get only features corresponding to animal selected.\n",
    "animal_features = np.array([features[index, :] for index in indexes])\n",
    "labels = labels.transpose()\n",
    "animal_labels = np.array([labels[index] for index in indexes]);\n"
   ]
  },
  {
   "cell_type": "code",
   "execution_count": 5,
   "metadata": {},
   "outputs": [
    {
     "name": "stdout",
     "output_type": "stream",
     "text": [
      "[[4.33660382e-02 3.01954463e-02 3.10574709e-02 ... 1.10000000e+01\n",
      "  1.20000000e+01 1.00000000e+00]\n",
      " [4.21477161e-02 3.10248619e-02 3.14682171e-02 ... 2.50000000e+01\n",
      "  3.80000000e+01 4.50000000e+01]\n",
      " [4.22937034e-02 2.88042523e-02 2.85215292e-02 ... 5.00000000e+00\n",
      "  2.00000000e+01 6.00000000e+00]\n",
      " ...\n",
      " [6.17070020e-02 4.28467959e-02 4.43389758e-02 ... 1.50000000e+01\n",
      "  1.00000000e+00 5.00000000e+00]\n",
      " [6.74262637e-02 5.46452433e-02 5.55657835e-02 ... 2.00000000e+01\n",
      "  1.20000000e+01 1.60000000e+01]\n",
      " [7.38921517e-02 5.81516910e-02 5.99666968e-02 ... 1.10000000e+01\n",
      "  2.80000000e+01 1.60000000e+01]]\n",
      "[529448 529449 529450 ... 586194 586195 586196]\n"
     ]
    }
   ],
   "source": [
    "print(animal_features)\n",
    "print(indexes)"
   ]
  },
  {
   "cell_type": "code",
   "execution_count": 6,
   "metadata": {},
   "outputs": [
    {
     "name": "stdout",
     "output_type": "stream",
     "text": [
      "(56511,)\n",
      "(56511, 141)\n"
     ]
    }
   ],
   "source": [
    "\"\"\"Reduce the number of classes: delete the seizures - Prediction model\"\"\"\n",
    "\n",
    "a = np.where(animal_labels == 2)\n",
    "\n",
    "animal_labels_tmp = np.delete(animal_labels, a)\n",
    "animal_features_tmp = np.delete(animal_features, a, 0);\n",
    "animal_labels = animal_labels_tmp\n",
    "animal_features = animal_features_tmp\n",
    "\n",
    "print(animal_labels.shape)\n",
    "print(animal_features.shape)"
   ]
  },
  {
   "cell_type": "code",
   "execution_count": 7,
   "metadata": {},
   "outputs": [],
   "source": [
    "\"\"\"Reducing the size of the vectors for easier computation\"\"\"\n",
    "factor = factor_red\n",
    "\n",
    "\"\"\"Shuffling the data to train/test on smaller subsets\"\"\"\n",
    "shuffled_animal_features = np.empty(animal_features.shape, dtype=animal_features.dtype)\n",
    "shuffled_animal_labels = np.empty(animal_labels.shape, dtype=animal_labels.dtype)\n",
    "permutation = np.random.permutation(len(animal_labels))\n",
    "for old_index, new_index in enumerate(permutation):\n",
    "        shuffled_animal_features [new_index] = animal_features[old_index]\n",
    "        shuffled_animal_labels[new_index] = animal_labels[old_index]\n",
    "animal_features = shuffled_animal_features\n",
    "animal_labels = shuffled_animal_labels\n",
    "\n",
    "animal_features = animal_features[0:int(len(animal_features)/factor),:]\n",
    "animal_labels = animal_labels[0:np.int(len(animal_labels)/factor)]"
   ]
  },
  {
   "cell_type": "code",
   "execution_count": 8,
   "metadata": {},
   "outputs": [
    {
     "name": "stdout",
     "output_type": "stream",
     "text": [
      "(2825,)\n",
      "(2825, 141)\n"
     ]
    }
   ],
   "source": [
    "print(animal_labels.shape)\n",
    "print(animal_features.shape)"
   ]
  },
  {
   "cell_type": "markdown",
   "metadata": {},
   "source": [
    "## Cross validation whole loop"
   ]
  },
  {
   "cell_type": "code",
   "execution_count": 9,
   "metadata": {},
   "outputs": [
    {
     "name": "stdout",
     "output_type": "stream",
     "text": [
      "Process ended, outer fold  0 , inner fold  0\n",
      "Process ended, outer fold  0 , inner fold  1\n",
      "Process ended, outer fold  0 , inner fold  2\n",
      "Process ended, outer fold  0 , inner fold  3\n",
      "Process ended, outer fold  0\n",
      "Process ended, outer fold  1 , inner fold  0\n",
      "Process ended, outer fold  1 , inner fold  1\n",
      "Process ended, outer fold  1 , inner fold  2\n",
      "Process ended, outer fold  1 , inner fold  3\n",
      "Process ended, outer fold  1\n",
      "Process ended, outer fold  2 , inner fold  0\n",
      "Process ended, outer fold  2 , inner fold  1\n",
      "Process ended, outer fold  2 , inner fold  2\n",
      "Process ended, outer fold  2 , inner fold  3\n",
      "Process ended, outer fold  2\n",
      "Process ended, outer fold  3 , inner fold  0\n",
      "Process ended, outer fold  3 , inner fold  1\n",
      "Process ended, outer fold  3 , inner fold  2\n",
      "Process ended, outer fold  3 , inner fold  3\n",
      "Process ended, outer fold  3\n",
      "Process ended, outer fold  4 , inner fold  0\n",
      "Process ended, outer fold  4 , inner fold  1\n",
      "Process ended, outer fold  4 , inner fold  2\n",
      "Process ended, outer fold  4 , inner fold  3\n",
      "Process ended, outer fold  4\n"
     ]
    },
    {
     "data": {
      "image/png": "[encoded data removed]",
      "text/plain": [
       "<Figure size 432x288 with 1 Axes>"
      ]
     },
     "metadata": {
      "needs_background": "light"
     },
     "output_type": "display_data"
    }
   ],
   "source": [
    "\"\"\"Split data into training and testing sets\"\"\"\n",
    "\n",
    "# parameters:\n",
    "n_splits_o = n_splits_o\n",
    "n_splits_i = n_splits_i\n",
    "nb_features_tot = animal_features.shape[1]\n",
    "\n",
    "cv_o = StratifiedKFold(n_splits=n_splits_o)\n",
    "cv_i = StratifiedKFold(n_splits=n_splits_i)\n",
    "\n",
    "\n",
    "AUC_i = np.zeros((n_splits_o, n_splits_i, nb_features_tot))\n",
    "AUC_means = np.zeros((n_splits_o, nb_features_tot))\n",
    "# Acc_train_i = np.zeros((n_splits_o, n_splits_i))\n",
    "# Acc_val_i = np.zeros((n_splits_o, n_splits_i))\n",
    "Best_features = np.zeros(n_splits_o)\n",
    "Best_features_valAUC = np.zeros(n_splits_o)\n",
    "AUC_o = np.zeros(n_splits_o)\n",
    "\n",
    "tprs = []\n",
    "mean_fpr = np.linspace(0, 1, 100)\n",
    "\n",
    "\n",
    "\"\"\"Outer loop\"\"\"\n",
    "k_out = 0\n",
    "for train_o, test in cv_o.split(animal_features, animal_labels):\n",
    "    data_train_o = animal_features[train_o]\n",
    "    data_test = animal_features[test]\n",
    "    labels_train_o = animal_labels[train_o]\n",
    "    labels_test = animal_labels[test]\n",
    "    \n",
    "    \"\"\"Inner Loop\"\"\"\n",
    "    k_in = 0\n",
    "    for train_i, val in cv_i.split(data_train_o, labels_train_o):\n",
    "\n",
    "        data_train_i = animal_features[train_i]\n",
    "        data_val = animal_features[val]\n",
    "        labels_train_i = animal_labels[train_i]\n",
    "        labels_val = animal_labels[val]\n",
    "\n",
    "        \"\"\"Hyperparameter evaluation: Number of features to keep after PCA\"\"\"\n",
    "        for k_feat in range(nb_feats_min, nb_feats_max+1):\n",
    "            features_kept = k_feat + 1 \n",
    "\n",
    "            clf = make_pipeline(StandardScaler(), PCA(n_components=features_kept), svm.SVC(kernel='rbf', gamma='scale', probability=True))\n",
    "            y_score = clf.fit(data_train_i, labels_train_i)\n",
    "\n",
    "            y_predict = clf.predict_proba(data_val)\n",
    "            y_predict_train = clf.predict(data_train_i)\n",
    "\n",
    "#             Acc_val_i[k_out, k_in] = metrics.accuracy_score(labels_val, y_predict)\n",
    "#             Acc_train_i[k_out, k_in] = metrics.accuracy_score(labels_train_i, y_predict_train)\n",
    "            fpr, tpr, thresholds = roc_curve(labels_val, y_predict[:, 1])\n",
    "            AUC_i[k_out, k_in, k_feat] = auc(fpr, tpr)\n",
    "        \n",
    "        print('Process ended, outer fold ', k_out, ', inner fold ', k_in)\n",
    "        k_in += 1\n",
    "        \n",
    "    AUC_means = np.mean(AUC_i, axis=1)\n",
    "    \n",
    "    \"\"\"Choice of the best performing Hyperparameters:\"\"\"\n",
    "    Best_features[k_out] = int(np.argmax(AUC_means[k_out,:]) + 1)\n",
    "    Best_features_valAUC[k_out] = np.max(AUC_means[k_out,:])\n",
    "    \n",
    "    \"\"\"Performance on the test set\"\"\"\n",
    "    clf = make_pipeline(StandardScaler(), PCA(n_components=int(Best_features[k_out])), svm.SVC(kernel='rbf', gamma='scale', probability=True))\n",
    "    y_score = clf.fit(data_train_o, labels_train_o)\n",
    "    \n",
    "    y_predict = clf.predict_proba(data_test)\n",
    "    y_predict_train = clf.predict(data_train_o)\n",
    "    \n",
    "    \"\"\"ROC curve\"\"\"\n",
    "    fpr, tpr, thresholds = roc_curve(labels_test, y_predict[:, 1])\n",
    "    tprs.append(interp(mean_fpr, fpr, tpr))\n",
    "    tprs[-1][0] = 0.0\n",
    "    AUC_o[k_out] = auc(fpr, tpr)\n",
    "    plt.plot(fpr, tpr, lw=1, alpha=0.3,\n",
    "             label='ROC fold %d (AUC = %0.2f for %d PCs)' % (k_out+1, AUC_o[k_out], int(Best_features[k_out])))  \n",
    "    \n",
    "    print('Process ended, outer fold ', k_out)\n",
    "    k_out += 1\n",
    "\n",
    "\"\"\"mean ROC curve\"\"\"             \n",
    "mean_tpr = np.mean(tprs, axis=0)\n",
    "mean_tpr[-1] = 1.0\n",
    "mean_auc = auc(mean_fpr, mean_tpr)\n",
    "std_auc = np.std(AUC_o)\n",
    "plt.plot(mean_fpr, mean_tpr, color='b',\n",
    "         label=r'Mean ROC (AUC = %0.2f $\\pm$ %0.2f)' % (mean_auc, std_auc),\n",
    "         lw=2, alpha=.8)\n",
    "\n",
    "std_tpr = np.std(tprs, axis=0)\n",
    "tprs_upper = np.minimum(mean_tpr + std_tpr, 1)\n",
    "tprs_lower = np.maximum(mean_tpr - std_tpr, 0)\n",
    "plt.fill_between(mean_fpr, tprs_lower, tprs_upper, color='grey', alpha=.2,\n",
    "                 label=r'$\\pm$ 1 std. dev.')       \n",
    "    \n",
    "plt.plot([0, 1], [0, 1], linestyle='--', lw=2, color='r',\n",
    "         label='Chance', alpha=.8)    \n",
    "plt.xlim([-0.05, 1.05])\n",
    "plt.ylim([-0.05, 1.05])\n",
    "plt.xlabel('False Positive Rate')\n",
    "plt.ylabel('True Positive Rate')\n",
    "plt.title('Receiver operating characteristic for subject %s (%d folds CV_out, %d folds CV_in, data randomly reduced by factor %d)' % (animal_names[animal_ID], n_splits_o, n_splits_i, factor_red))\n",
    "plt.legend(loc=\"lower right\")\n",
    "plt.savefig('ROC_' + animal_names[animal_ID] + '.png')  \n",
    "plt.show()             \n",
    "           \n",
    "             \n",
    "             \n"
   ]
  },
  {
   "cell_type": "code",
   "execution_count": null,
   "metadata": {},
   "outputs": [],
   "source": [
    "print(AUC_i)\n",
    "print(AUC_o)\n",
    "print(Best_features)\n",
    "print(Best_features_valAUC)"
   ]
  },
  {
   "cell_type": "code",
   "execution_count": null,
   "metadata": {},
   "outputs": [],
   "source": [
    "print(AUC_i)"
   ]
  },
  {
   "cell_type": "code",
   "execution_count": 24,
   "metadata": {},
   "outputs": [
    {
     "name": "stdout",
     "output_type": "stream",
     "text": [
      "0.0\n"
     ]
    }
   ],
   "source": [
    "print(AUC_i[1,1,1])"
   ]
  },
  {
   "cell_type": "code",
   "execution_count": 25,
   "metadata": {},
   "outputs": [
    {
     "name": "stdout",
     "output_type": "stream",
     "text": [
      "[0.71034237 0.68750595 0.70170427 0.67919768 0.68258879]\n"
     ]
    }
   ],
   "source": [
    "print(AUC_o)"
   ]
  },
  {
   "cell_type": "code",
   "execution_count": 114,
   "metadata": {},
   "outputs": [
    {
     "data": {
      "text/plain": [
       "array([0, 1], dtype=uint8)"
      ]
     },
     "execution_count": 114,
     "metadata": {},
     "output_type": "execute_result"
    }
   ],
   "source": [
    "np.unique(animal_labels)"
   ]
  },
  {
   "cell_type": "code",
   "execution_count": 116,
   "metadata": {},
   "outputs": [
    {
     "data": {
      "text/plain": [
       "1434"
      ]
     },
     "execution_count": 116,
     "metadata": {},
     "output_type": "execute_result"
    }
   ],
   "source": [
    "list(animal_labels).count(0)"
   ]
  },
  {
   "cell_type": "code",
   "execution_count": null,
   "metadata": {},
   "outputs": [],
   "source": []
  }
 ],
 "metadata": {
  "kernelspec": {
   "display_name": "Python 3",
   "language": "python",
   "name": "python3"
  },
  "language_info": {
   "codemirror_mode": {
    "name": "ipython",
    "version": 3
   },
   "file_extension": ".py",
   "mimetype": "text/x-python",
   "name": "python",
   "nbconvert_exporter": "python",
   "pygments_lexer": "ipython3",
   "version": "3.6.8"
  }
 },
 "nbformat": 4,
 "nbformat_minor": 2
}
